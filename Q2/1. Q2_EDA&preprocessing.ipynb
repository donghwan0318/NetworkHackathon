{
  "cells": [
    {
      "cell_type": "code",
      "execution_count": null,
      "metadata": {
        "colab": {
          "base_uri": "https://localhost:8080/"
        },
        "id": "I8bOM7yNExEY",
        "outputId": "f266999b-9bf6-429b-fb79-2a9e92df49f7"
      },
      "outputs": [
        {
          "name": "stdout",
          "output_type": "stream",
          "text": [
            "Mounted at /content/drive\n"
          ]
        }
      ],
      "source": [
        "#드라이브 마운트\n",
        "from google.colab import drive\n",
        "drive.mount('/content/drive')"
      ]
    },
    {
      "cell_type": "code",
      "execution_count": null,
      "metadata": {
        "id": "U5rqu-hLEoQY"
      },
      "outputs": [],
      "source": [
        "# 라이브러리 import\n",
        "import pandas as pd\n",
        "import numpy as np\n",
        "import matplotlib.pyplot as plt\n",
        "import os"
      ]
    },
    {
      "cell_type": "code",
      "execution_count": null,
      "metadata": {
        "colab": {
          "base_uri": "https://localhost:8080/",
          "height": 35
        },
        "id": "Slng4ZZVEsql",
        "outputId": "cc043112-e013-4c02-9c8f-9c0c520103e4"
      },
      "outputs": [
        {
          "data": {
            "application/vnd.google.colaboratory.intrinsic+json": {
              "type": "string"
            },
            "text/plain": [
              "'/content/drive/MyDrive/통신망해커톤/Q2_data'"
            ]
          },
          "execution_count": 3,
          "metadata": {},
          "output_type": "execute_result"
        }
      ],
      "source": [
        "os.chdir('/content/drive/MyDrive/통신망해커톤/Q2_data')\n",
        "os.getcwd()"
      ]
    },
    {
      "cell_type": "markdown",
      "metadata": {
        "id": "VaXvpvDaJH5l"
      },
      "source": [
        "#데이터 불러오기"
      ]
    },
    {
      "cell_type": "code",
      "execution_count": null,
      "metadata": {
        "id": "r3bW8ytFE8os"
      },
      "outputs": [],
      "source": [
        "train = pd.read_csv('Q2_train.csv')\n",
        "test = pd.read_csv('Q2_test.csv')"
      ]
    },
    {
      "cell_type": "code",
      "execution_count": null,
      "metadata": {
        "id": "cD8CZ1Mhicoo"
      },
      "outputs": [],
      "source": [
        "train"
      ]
    },
    {
      "cell_type": "markdown",
      "metadata": {
        "id": "MONBWUoleeo8"
      },
      "source": [
        "# 데이터 매핑"
      ]
    },
    {
      "cell_type": "code",
      "execution_count": null,
      "metadata": {
        "id": "TRs1otuOeOUC"
      },
      "outputs": [],
      "source": [
        "#매핑한 csv 파일 불러와서 경보 메세지 1,2,3으로 매핑\n",
        "map = pd.read_csv('msg매핑전체_v7.csv')\n",
        "change_dict = dict(zip(map['msg'], map['type']))\n",
        "train['alarmmsg_original'] = train['alarmmsg_original'].map(change_dict)\n",
        "test['alarmmsg_original'] = test['alarmmsg_original'].map(change_dict)\n",
        "# 범주형으로 변경\n",
        "train['alarmmsg_original']=train['alarmmsg_original'].astype(str)\n",
        "test['alarmmsg_original']=test['alarmmsg_original'].astype(str)"
      ]
    },
    {
      "cell_type": "code",
      "execution_count": null,
      "metadata": {
        "id": "IU8MTByGebYK"
      },
      "outputs": [],
      "source": [
        "test_df=test.copy()"
      ]
    },
    {
      "cell_type": "markdown",
      "metadata": {
        "id": "HG92YEnbkb3V"
      },
      "source": [
        "#EDA"
      ]
    },
    {
      "cell_type": "code",
      "execution_count": null,
      "metadata": {
        "id": "Pr1iDbZMkdyj"
      },
      "outputs": [],
      "source": [
        "#train에서 A제조사만 포함\n",
        "#test에서는 A,B,C 제조사 모두 포함\n",
        "print('train : ',train['root_cause_domain'].unique())\n",
        "print('test : ',test['root_cause_domain'].unique())"
      ]
    },
    {
      "cell_type": "code",
      "execution_count": null,
      "metadata": {
        "id": "gUiSb4CsknG4"
      },
      "outputs": [],
      "source": [
        "#train에서 slot과 port 변수에서 다량의 결측치가 발견됨\n",
        "train.isna().sum()"
      ]
    },
    {
      "cell_type": "code",
      "execution_count": null,
      "metadata": {
        "id": "GcUH8aq5kqfj"
      },
      "outputs": [],
      "source": [
        "#test에서 slot과 port 변수에서 다량의 결측치가 발견됨\n",
        "test.isna().sum()"
      ]
    },
    {
      "cell_type": "code",
      "execution_count": null,
      "metadata": {
        "id": "UwBixnFekrr7"
      },
      "outputs": [],
      "source": [
        "#test에서 site 변수의 고유값이 더 많은 것을 확인함\n",
        "print('train : ',train['site'].nunique())\n",
        "print('test : ',test['site'].nunique())"
      ]
    },
    {
      "cell_type": "code",
      "execution_count": null,
      "metadata": {
        "id": "OEg6jB0PktvG"
      },
      "outputs": [],
      "source": [
        "#test에서 sysname 변수의 고유값이 더 많은 것을 확인함\n",
        "print('train : ',train['sysname'].nunique())\n",
        "print('test : ',test['sysname'].nunique())"
      ]
    },
    {
      "cell_type": "code",
      "execution_count": null,
      "metadata": {
        "id": "lZC2r5PVpiGK"
      },
      "outputs": [],
      "source": [
        "#root_cause_type 별 slot과 port 결측치 개수 시각화\n",
        "plt.figure(figsize=(12, 6))\n",
        "colors = ['green', 'gray', 'orange']\n",
        "\n",
        "# 첫 번째 서브플롯: slotna\n",
        "plt.subplot(1, 2, 1)\n",
        "result_slotna = train[train['slot'].isnull()]['root_cause_type'].value_counts()\n",
        "result_slotna.plot(kind='bar', color=colors)\n",
        "plt.xlabel('Root Cause Type')\n",
        "plt.ylabel('SlotNa')\n",
        "plt.xticks(rotation=0)\n",
        "plt.title('Number of SlotNa by root_cause_type')\n",
        "\n",
        "# 두 번째 서브플롯: portna\n",
        "colors = ['green', 'orange', 'gray']\n",
        "plt.subplot(1, 2, 2)\n",
        "result_portna = train[train['port'].isnull()]['root_cause_type'].value_counts()\n",
        "result_portna.plot(kind='bar', color=colors)\n",
        "plt.xlabel('Root Cause Type')\n",
        "plt.ylabel('PortNa')\n",
        "plt.xticks(rotation=0)\n",
        "plt.title('Number of PortNa by root_cause_type')\n",
        "\n",
        "plt.tight_layout()\n",
        "plt.show()"
      ]
    },
    {
      "cell_type": "markdown",
      "metadata": {
        "id": "8SO1y0xFJSbo"
      },
      "source": [
        "# 데이터 전처리"
      ]
    },
    {
      "cell_type": "markdown",
      "metadata": {
        "id": "E3lkALGGfcl7"
      },
      "source": [
        "## slot, port na"
      ]
    },
    {
      "cell_type": "code",
      "execution_count": null,
      "metadata": {
        "colab": {
          "base_uri": "https://localhost:8080/"
        },
        "id": "AT7wAgu2eiZH",
        "outputId": "7047176e-c37f-4f53-a86e-fa1de4410921"
      },
      "outputs": [
        {
          "data": {
            "text/plain": [
              "slotna  portna\n",
              "0       0         8717\n",
              "1       1          357\n",
              "0       1          240\n",
              "1       0            8\n",
              "dtype: int64"
            ]
          },
          "execution_count": 12,
          "metadata": {},
          "output_type": "execute_result"
        }
      ],
      "source": [
        "# slot과 port 변수의 결측치 여부에 대한 파생변수 slotna, portna 생성\n",
        "# train에 대해 진행\n",
        "train['slotna'] = np.nan\n",
        "train['portna'] = np.nan\n",
        "\n",
        "train.loc[train[['slot']].isna( ).any(axis=1), 'slotna'] = 1\n",
        "train.loc[train[['port']].isna( ).any(axis=1), 'portna'] = 1\n",
        "train[['slotna', 'portna']] = train[['slotna', 'portna']].fillna(0)\n",
        "\n",
        "train[['slotna', 'portna']] = train[['slotna', 'portna']].astype(int)\n",
        "train[['slotna', 'portna']].value_counts()"
      ]
    },
    {
      "cell_type": "code",
      "execution_count": null,
      "metadata": {
        "colab": {
          "base_uri": "https://localhost:8080/"
        },
        "id": "jJslkfclemrj",
        "outputId": "d7183a98-84e3-4f9c-a5f1-ed01f2e575e9"
      },
      "outputs": [
        {
          "data": {
            "text/plain": [
              "slotna  portna\n",
              "0       0         34853\n",
              "1       1          2781\n",
              "0       1            37\n",
              "dtype: int64"
            ]
          },
          "execution_count": 13,
          "metadata": {},
          "output_type": "execute_result"
        }
      ],
      "source": [
        "# test에 대해서도 동일하게 진행\n",
        "test['slotna'] = np.nan\n",
        "test['portna'] = np.nan\n",
        "\n",
        "test.loc[test[['slot']].isna( ).any(axis=1), 'slotna'] = 1\n",
        "test.loc[test[['port']].isna( ).any(axis=1), 'portna'] = 1\n",
        "test[['slotna', 'portna']] = test[['slotna', 'portna']].fillna(0)\n",
        "\n",
        "test[['slotna', 'portna']] = test[['slotna', 'portna']].astype(int)\n",
        "test[['slotna', 'portna']].value_counts()"
      ]
    },
    {
      "cell_type": "markdown",
      "metadata": {
        "id": "-jPQbgieffBX"
      },
      "source": [
        "## alarmmsg & timelen"
      ]
    },
    {
      "cell_type": "code",
      "execution_count": null,
      "metadata": {
        "id": "qmnqo55vetMH"
      },
      "outputs": [],
      "source": [
        "# alarmmsg의 1,2,3 개수를 세고 각각에 alarmlevel을 곱함\n",
        "# alarmmsg = [1 2 1 3] , alarmlevel = [2,2,3,2] --> [alarmmsg1] = 5,[alarmmsg2] = 4,[alarmmsg3] = 6\n",
        "msg = train[['ticketno', 'alarmlevel', 'alarmmsg_original']]\n",
        "msg = pd.get_dummies(msg)\n",
        "msg['alarmmsg_original_1'] = msg['alarmmsg_original_1'] * msg['alarmlevel']\n",
        "msg['alarmmsg_original_2'] = msg['alarmmsg_original_2'] * msg['alarmlevel']\n",
        "msg['alarmmsg_original_3'] = msg['alarmmsg_original_3'] * msg['alarmlevel']\n",
        "msg.drop('alarmlevel', axis=1, inplace=True)\n",
        "msg = msg.groupby('ticketno').sum()"
      ]
    },
    {
      "cell_type": "code",
      "execution_count": null,
      "metadata": {
        "id": "KWAwTNfyeur2"
      },
      "outputs": [],
      "source": [
        "# ticketno별 경보가 마지막으로 발생한 시각까지 걸린 시간을 분 단위로 계산해 time_len이라는 파생변수 생성.\n",
        "train['alarmtime']=pd.to_datetime(train['alarmtime'])\n",
        "grouped = train.groupby('ticketno')['alarmtime'].agg(['max', 'min'])\n",
        "grouped['time_len'] = grouped['max'] - grouped['min']\n",
        "grouped['time_len'] = grouped['time_len'].dt.total_seconds() / 60\n",
        "grouped.sort_values(by='ticketno',inplace=True)\n",
        "grouped.reset_index(inplace=True)"
      ]
    },
    {
      "cell_type": "code",
      "execution_count": null,
      "metadata": {
        "colab": {
          "base_uri": "https://localhost:8080/"
        },
        "id": "yu1ZkTJ8fQYG",
        "outputId": "a3ae3e1a-5062-4c49-ac17-10ede3460dea"
      },
      "outputs": [
        {
          "name": "stderr",
          "output_type": "stream",
          "text": [
            "<ipython-input-16-ed8df3515fdb>:2: SettingWithCopyWarning: \n",
            "A value is trying to be set on a copy of a slice from a DataFrame\n",
            "\n",
            "See the caveats in the documentation: https://pandas.pydata.org/pandas-docs/stable/user_guide/indexing.html#returning-a-view-versus-a-copy\n",
            "  train_merge.drop_duplicates(['ticketno'], inplace=True)\n"
          ]
        }
      ],
      "source": [
        "#train에서 ticketno를 기준으로 데이터 병합 및 결과 확인\n",
        "train_merge = train[['ticketno', 'alarmlevel', 'slotna', 'portna','root_cause_type']]\n",
        "train_merge.drop_duplicates(['ticketno'], inplace=True)\n",
        "\n",
        "train_merge = pd.merge(msg, train_merge, on='ticketno')\n",
        "train_merge=pd.concat([train_merge,grouped['time_len']],axis=1)\n",
        "train_merge.head(1)"
      ]
    },
    {
      "cell_type": "code",
      "execution_count": null,
      "metadata": {
        "colab": {
          "base_uri": "https://localhost:8080/"
        },
        "id": "0585hmi6fbvo",
        "outputId": "3a186360-1072-47f7-dfef-0b8433186da4"
      },
      "outputs": [
        {
          "name": "stderr",
          "output_type": "stream",
          "text": [
            "<ipython-input-18-01b1023ab7d2>:4: SettingWithCopyWarning: \n",
            "A value is trying to be set on a copy of a slice from a DataFrame.\n",
            "Try using .loc[row_indexer,col_indexer] = value instead\n",
            "\n",
            "See the caveats in the documentation: https://pandas.pydata.org/pandas-docs/stable/user_guide/indexing.html#returning-a-view-versus-a-copy\n",
            "  msg['alarmmsg_original'] = msg['alarmmsg_original']\n",
            "<ipython-input-18-01b1023ab7d2>:13: SettingWithCopyWarning: \n",
            "A value is trying to be set on a copy of a slice from a DataFrame\n",
            "\n",
            "See the caveats in the documentation: https://pandas.pydata.org/pandas-docs/stable/user_guide/indexing.html#returning-a-view-versus-a-copy\n",
            "  test.drop_duplicates(['ticketno'], inplace=True)\n"
          ]
        }
      ],
      "source": [
        "# test에 동일하게 진행\n",
        "# alarmmsg * alarmlevel\n",
        "msg = test[['ticketno', 'alarmlevel', 'alarmmsg_original']]\n",
        "msg['alarmmsg_original'] = msg['alarmmsg_original']\n",
        "msg = pd.get_dummies(msg)\n",
        "msg['alarmmsg_original_1'] = msg['alarmmsg_original_1'] * msg['alarmlevel']\n",
        "msg['alarmmsg_original_2'] = msg['alarmmsg_original_2'] * msg['alarmlevel']\n",
        "msg['alarmmsg_original_3'] = msg['alarmmsg_original_3'] * msg['alarmlevel']\n",
        "msg.drop('alarmlevel', axis=1, inplace=True)\n",
        "msg = msg.groupby('ticketno').sum()\n",
        "\n",
        "test = test[['ticketno', 'alarmlevel', 'slotna', 'portna']]\n",
        "test.drop_duplicates(['ticketno'], inplace=True)\n",
        "test = pd.merge(msg, test, on='ticketno')\n",
        "test['ticketno'] = test['ticketno'].astype(int)"
      ]
    },
    {
      "cell_type": "code",
      "execution_count": null,
      "metadata": {
        "id": "k6L-JYWYfnM_"
      },
      "outputs": [],
      "source": [
        "# test에 동일하게 진행\n",
        "# timelen\n",
        "test_df['alarmtime']=pd.to_datetime(test_df['alarmtime'])\n",
        "grouped = test_df.groupby('ticketno')['alarmtime'].agg(['max', 'min'])\n",
        "grouped['time_len'] = grouped['max'] - grouped['min']\n",
        "grouped['time_len'] = grouped['time_len'].dt.total_seconds() / 60\n",
        "grouped.sort_values(by='ticketno',inplace=True)\n",
        "grouped.reset_index(inplace=True)"
      ]
    },
    {
      "cell_type": "code",
      "execution_count": null,
      "metadata": {
        "colab": {
          "base_uri": "https://localhost:8080/",
          "height": 89
        },
        "id": "iv_oODMifuBW",
        "outputId": "36e9e075-3d89-474a-ee11-942fa21786d5"
      },
      "outputs": [
        {
          "data": {
            "text/html": [
              "\n",
              "  <div id=\"df-c7c511e6-4175-4290-a0a8-2ac5607b1113\" class=\"colab-df-container\">\n",
              "    <div>\n",
              "<style scoped>\n",
              "    .dataframe tbody tr th:only-of-type {\n",
              "        vertical-align: middle;\n",
              "    }\n",
              "\n",
              "    .dataframe tbody tr th {\n",
              "        vertical-align: top;\n",
              "    }\n",
              "\n",
              "    .dataframe thead th {\n",
              "        text-align: right;\n",
              "    }\n",
              "</style>\n",
              "<table border=\"1\" class=\"dataframe\">\n",
              "  <thead>\n",
              "    <tr style=\"text-align: right;\">\n",
              "      <th></th>\n",
              "      <th>ticketno</th>\n",
              "      <th>alarmmsg_original_1</th>\n",
              "      <th>alarmmsg_original_2</th>\n",
              "      <th>alarmmsg_original_3</th>\n",
              "      <th>alarmlevel</th>\n",
              "      <th>slotna</th>\n",
              "      <th>portna</th>\n",
              "      <th>time_len</th>\n",
              "      <th>time_len</th>\n",
              "    </tr>\n",
              "  </thead>\n",
              "  <tbody>\n",
              "    <tr>\n",
              "      <th>0</th>\n",
              "      <td>15238899</td>\n",
              "      <td>14</td>\n",
              "      <td>8</td>\n",
              "      <td>0</td>\n",
              "      <td>4</td>\n",
              "      <td>1</td>\n",
              "      <td>1</td>\n",
              "      <td>0.0</td>\n",
              "      <td>0.0</td>\n",
              "    </tr>\n",
              "  </tbody>\n",
              "</table>\n",
              "</div>\n",
              "    <div class=\"colab-df-buttons\">\n",
              "\n",
              "  <div class=\"colab-df-container\">\n",
              "    <button class=\"colab-df-convert\" onclick=\"convertToInteractive('df-c7c511e6-4175-4290-a0a8-2ac5607b1113')\"\n",
              "            title=\"Convert this dataframe to an interactive table.\"\n",
              "            style=\"display:none;\">\n",
              "\n",
              "  <svg xmlns=\"http://www.w3.org/2000/svg\" height=\"24px\" viewBox=\"0 -960 960 960\">\n",
              "    <path d=\"M120-120v-720h720v720H120Zm60-500h600v-160H180v160Zm220 220h160v-160H400v160Zm0 220h160v-160H400v160ZM180-400h160v-160H180v160Zm440 0h160v-160H620v160ZM180-180h160v-160H180v160Zm440 0h160v-160H620v160Z\"/>\n",
              "  </svg>\n",
              "    </button>\n",
              "\n",
              "  <style>\n",
              "    .colab-df-container {\n",
              "      display:flex;\n",
              "      gap: 12px;\n",
              "    }\n",
              "\n",
              "    .colab-df-convert {\n",
              "      background-color: #E8F0FE;\n",
              "      border: none;\n",
              "      border-radius: 50%;\n",
              "      cursor: pointer;\n",
              "      display: none;\n",
              "      fill: #1967D2;\n",
              "      height: 32px;\n",
              "      padding: 0 0 0 0;\n",
              "      width: 32px;\n",
              "    }\n",
              "\n",
              "    .colab-df-convert:hover {\n",
              "      background-color: #E2EBFA;\n",
              "      box-shadow: 0px 1px 2px rgba(60, 64, 67, 0.3), 0px 1px 3px 1px rgba(60, 64, 67, 0.15);\n",
              "      fill: #174EA6;\n",
              "    }\n",
              "\n",
              "    .colab-df-buttons div {\n",
              "      margin-bottom: 4px;\n",
              "    }\n",
              "\n",
              "    [theme=dark] .colab-df-convert {\n",
              "      background-color: #3B4455;\n",
              "      fill: #D2E3FC;\n",
              "    }\n",
              "\n",
              "    [theme=dark] .colab-df-convert:hover {\n",
              "      background-color: #434B5C;\n",
              "      box-shadow: 0px 1px 3px 1px rgba(0, 0, 0, 0.15);\n",
              "      filter: drop-shadow(0px 1px 2px rgba(0, 0, 0, 0.3));\n",
              "      fill: #FFFFFF;\n",
              "    }\n",
              "  </style>\n",
              "\n",
              "    <script>\n",
              "      const buttonEl =\n",
              "        document.querySelector('#df-c7c511e6-4175-4290-a0a8-2ac5607b1113 button.colab-df-convert');\n",
              "      buttonEl.style.display =\n",
              "        google.colab.kernel.accessAllowed ? 'block' : 'none';\n",
              "\n",
              "      async function convertToInteractive(key) {\n",
              "        const element = document.querySelector('#df-c7c511e6-4175-4290-a0a8-2ac5607b1113');\n",
              "        const dataTable =\n",
              "          await google.colab.kernel.invokeFunction('convertToInteractive',\n",
              "                                                    [key], {});\n",
              "        if (!dataTable) return;\n",
              "\n",
              "        const docLinkHtml = 'Like what you see? Visit the ' +\n",
              "          '<a target=\"_blank\" href=https://colab.research.google.com/notebooks/data_table.ipynb>data table notebook</a>'\n",
              "          + ' to learn more about interactive tables.';\n",
              "        element.innerHTML = '';\n",
              "        dataTable['output_type'] = 'display_data';\n",
              "        await google.colab.output.renderOutput(dataTable, element);\n",
              "        const docLink = document.createElement('div');\n",
              "        docLink.innerHTML = docLinkHtml;\n",
              "        element.appendChild(docLink);\n",
              "      }\n",
              "    </script>\n",
              "  </div>\n",
              "\n",
              "\n",
              "<div id=\"df-32fb8ccf-072b-4d6f-877a-e5cb4fef8366\">\n",
              "  <button class=\"colab-df-quickchart\" onclick=\"quickchart('df-32fb8ccf-072b-4d6f-877a-e5cb4fef8366')\"\n",
              "            title=\"Suggest charts.\"\n",
              "            style=\"display:none;\">\n",
              "\n",
              "<svg xmlns=\"http://www.w3.org/2000/svg\" height=\"24px\"viewBox=\"0 0 24 24\"\n",
              "     width=\"24px\">\n",
              "    <g>\n",
              "        <path d=\"M19 3H5c-1.1 0-2 .9-2 2v14c0 1.1.9 2 2 2h14c1.1 0 2-.9 2-2V5c0-1.1-.9-2-2-2zM9 17H7v-7h2v7zm4 0h-2V7h2v10zm4 0h-2v-4h2v4z\"/>\n",
              "    </g>\n",
              "</svg>\n",
              "  </button>\n",
              "\n",
              "<style>\n",
              "  .colab-df-quickchart {\n",
              "    background-color: #E8F0FE;\n",
              "    border: none;\n",
              "    border-radius: 50%;\n",
              "    cursor: pointer;\n",
              "    display: none;\n",
              "    fill: #1967D2;\n",
              "    height: 32px;\n",
              "    padding: 0 0 0 0;\n",
              "    width: 32px;\n",
              "  }\n",
              "\n",
              "  .colab-df-quickchart:hover {\n",
              "    background-color: #E2EBFA;\n",
              "    box-shadow: 0px 1px 2px rgba(60, 64, 67, 0.3), 0px 1px 3px 1px rgba(60, 64, 67, 0.15);\n",
              "    fill: #174EA6;\n",
              "  }\n",
              "\n",
              "  [theme=dark] .colab-df-quickchart {\n",
              "    background-color: #3B4455;\n",
              "    fill: #D2E3FC;\n",
              "  }\n",
              "\n",
              "  [theme=dark] .colab-df-quickchart:hover {\n",
              "    background-color: #434B5C;\n",
              "    box-shadow: 0px 1px 3px 1px rgba(0, 0, 0, 0.15);\n",
              "    filter: drop-shadow(0px 1px 2px rgba(0, 0, 0, 0.3));\n",
              "    fill: #FFFFFF;\n",
              "  }\n",
              "</style>\n",
              "\n",
              "  <script>\n",
              "    async function quickchart(key) {\n",
              "      const charts = await google.colab.kernel.invokeFunction(\n",
              "          'suggestCharts', [key], {});\n",
              "    }\n",
              "    (() => {\n",
              "      let quickchartButtonEl =\n",
              "        document.querySelector('#df-32fb8ccf-072b-4d6f-877a-e5cb4fef8366 button');\n",
              "      quickchartButtonEl.style.display =\n",
              "        google.colab.kernel.accessAllowed ? 'block' : 'none';\n",
              "    })();\n",
              "  </script>\n",
              "</div>\n",
              "    </div>\n",
              "  </div>\n"
            ],
            "text/plain": [
              "   ticketno  alarmmsg_original_1  alarmmsg_original_2  alarmmsg_original_3  \\\n",
              "0  15238899                   14                    8                    0   \n",
              "\n",
              "   alarmlevel  slotna  portna  time_len  time_len  \n",
              "0           4       1       1       0.0       0.0  "
            ]
          },
          "execution_count": 22,
          "metadata": {},
          "output_type": "execute_result"
        }
      ],
      "source": [
        "test=pd.concat([test,grouped['time_len']],axis=1)\n",
        "test.head(1)"
      ]
    },
    {
      "cell_type": "markdown",
      "metadata": {
        "id": "RUtxM8gGfxwp"
      },
      "source": [
        "## msglen"
      ]
    },
    {
      "cell_type": "code",
      "execution_count": null,
      "metadata": {
        "id": "2VkVHGh7wzGG"
      },
      "outputs": [],
      "source": [
        "# 베이스 라인 코드 사용\n",
        "\n",
        "def ppr_data(df):\n",
        "    # TODO: 데이터 전처리 코드 구현 ---------- #\n",
        "    df = df.groupby('ticketno').apply(custom_info).reset_index()  # ticketno 기준 병합 및 전처리 수행\n",
        "\n",
        "    x_df = df.iloc[:, :-1]\n",
        "    y_df = df['root_cause_type']\n",
        "\n",
        "    # ------------------------------------- #\n",
        "    return x_df, y_df\n",
        "\n",
        "def custom_info(group):  # 임의로 작성된 전처리 코드입니다.\n",
        "    d = {}\n",
        "    group.sort_values(by='alarmtime', ascending=True, inplace=True)  # 경보 순서 정렬\n",
        "    d['alarmmsg_original'] = ' '.join(str(msg) for msg in group['alarmmsg_original'])  # 메시지 단순 병합\n",
        "    if 'root_cause_type' in group.columns:  # 레이블 추출\n",
        "        d['root_cause_type'] = group['root_cause_type'].iloc[0]  # 동일한 ticketno는 동일한 root_cause_type을 가짐\n",
        "    else:\n",
        "        d['root_cause_type'] = None  # 테스트 세트의 경우 정답 컬럼 없음\n",
        "    return pd.Series(d, index=['alarmmsg_original', 'root_cause_type'])\n",
        "\n",
        "train_df = train.copy()\n",
        "\n",
        "x_train_df, y_train_df = ppr_data(train_df)\n",
        "x_test_df, _ = ppr_data(test_df)  # 테스트 세트의 경우 정답 컬럼 없음"
      ]
    },
    {
      "cell_type": "code",
      "execution_count": null,
      "metadata": {
        "id": "6wsTOrNlgEaV"
      },
      "outputs": [],
      "source": [
        "#ticketno별 결합된 경보 메세지와 파생변수 추가된 train_merge 병합\n",
        "#data에서 LinkCut, UnitFail, PowerFail을 1,2,3으로 변경\n",
        "data = pd.concat([x_train_df,y_train_df,train_merge.drop(['ticketno','root_cause_type'],axis=1)],axis=1)\n",
        "data['root_cause_type'] = data['root_cause_type'].apply(lambda x: 0 if x == 'LinkCut' else (1 if x == 'UnitFail' else (2 if x == 'PowerFail' else x)))"
      ]
    },
    {
      "cell_type": "code",
      "execution_count": null,
      "metadata": {
        "colab": {
          "base_uri": "https://localhost:8080/",
          "height": 89
        },
        "id": "OvIPqgUggFkE",
        "outputId": "78d9fa2f-9194-4f7a-b70b-b0eecf8f69db"
      },
      "outputs": [
        {
          "data": {
            "text/html": [
              "\n",
              "  <div id=\"df-69bd7818-8a1f-4129-af6d-fcf60195953e\" class=\"colab-df-container\">\n",
              "    <div>\n",
              "<style scoped>\n",
              "    .dataframe tbody tr th:only-of-type {\n",
              "        vertical-align: middle;\n",
              "    }\n",
              "\n",
              "    .dataframe tbody tr th {\n",
              "        vertical-align: top;\n",
              "    }\n",
              "\n",
              "    .dataframe thead th {\n",
              "        text-align: right;\n",
              "    }\n",
              "</style>\n",
              "<table border=\"1\" class=\"dataframe\">\n",
              "  <thead>\n",
              "    <tr style=\"text-align: right;\">\n",
              "      <th></th>\n",
              "      <th>ticketno</th>\n",
              "      <th>alarmmsg_original</th>\n",
              "      <th>alarmmsg_original_1</th>\n",
              "      <th>alarmmsg_original_2</th>\n",
              "      <th>alarmmsg_original_3</th>\n",
              "      <th>alarmlevel</th>\n",
              "      <th>slotna</th>\n",
              "      <th>portna</th>\n",
              "      <th>time_len</th>\n",
              "      <th>time_len</th>\n",
              "    </tr>\n",
              "  </thead>\n",
              "  <tbody>\n",
              "    <tr>\n",
              "      <th>0</th>\n",
              "      <td>15238899.0</td>\n",
              "      <td>2 1 2 1</td>\n",
              "      <td>14</td>\n",
              "      <td>8</td>\n",
              "      <td>0</td>\n",
              "      <td>4</td>\n",
              "      <td>1</td>\n",
              "      <td>1</td>\n",
              "      <td>0.0</td>\n",
              "      <td>0.0</td>\n",
              "    </tr>\n",
              "  </tbody>\n",
              "</table>\n",
              "</div>\n",
              "    <div class=\"colab-df-buttons\">\n",
              "\n",
              "  <div class=\"colab-df-container\">\n",
              "    <button class=\"colab-df-convert\" onclick=\"convertToInteractive('df-69bd7818-8a1f-4129-af6d-fcf60195953e')\"\n",
              "            title=\"Convert this dataframe to an interactive table.\"\n",
              "            style=\"display:none;\">\n",
              "\n",
              "  <svg xmlns=\"http://www.w3.org/2000/svg\" height=\"24px\" viewBox=\"0 -960 960 960\">\n",
              "    <path d=\"M120-120v-720h720v720H120Zm60-500h600v-160H180v160Zm220 220h160v-160H400v160Zm0 220h160v-160H400v160ZM180-400h160v-160H180v160Zm440 0h160v-160H620v160ZM180-180h160v-160H180v160Zm440 0h160v-160H620v160Z\"/>\n",
              "  </svg>\n",
              "    </button>\n",
              "\n",
              "  <style>\n",
              "    .colab-df-container {\n",
              "      display:flex;\n",
              "      gap: 12px;\n",
              "    }\n",
              "\n",
              "    .colab-df-convert {\n",
              "      background-color: #E8F0FE;\n",
              "      border: none;\n",
              "      border-radius: 50%;\n",
              "      cursor: pointer;\n",
              "      display: none;\n",
              "      fill: #1967D2;\n",
              "      height: 32px;\n",
              "      padding: 0 0 0 0;\n",
              "      width: 32px;\n",
              "    }\n",
              "\n",
              "    .colab-df-convert:hover {\n",
              "      background-color: #E2EBFA;\n",
              "      box-shadow: 0px 1px 2px rgba(60, 64, 67, 0.3), 0px 1px 3px 1px rgba(60, 64, 67, 0.15);\n",
              "      fill: #174EA6;\n",
              "    }\n",
              "\n",
              "    .colab-df-buttons div {\n",
              "      margin-bottom: 4px;\n",
              "    }\n",
              "\n",
              "    [theme=dark] .colab-df-convert {\n",
              "      background-color: #3B4455;\n",
              "      fill: #D2E3FC;\n",
              "    }\n",
              "\n",
              "    [theme=dark] .colab-df-convert:hover {\n",
              "      background-color: #434B5C;\n",
              "      box-shadow: 0px 1px 3px 1px rgba(0, 0, 0, 0.15);\n",
              "      filter: drop-shadow(0px 1px 2px rgba(0, 0, 0, 0.3));\n",
              "      fill: #FFFFFF;\n",
              "    }\n",
              "  </style>\n",
              "\n",
              "    <script>\n",
              "      const buttonEl =\n",
              "        document.querySelector('#df-69bd7818-8a1f-4129-af6d-fcf60195953e button.colab-df-convert');\n",
              "      buttonEl.style.display =\n",
              "        google.colab.kernel.accessAllowed ? 'block' : 'none';\n",
              "\n",
              "      async function convertToInteractive(key) {\n",
              "        const element = document.querySelector('#df-69bd7818-8a1f-4129-af6d-fcf60195953e');\n",
              "        const dataTable =\n",
              "          await google.colab.kernel.invokeFunction('convertToInteractive',\n",
              "                                                    [key], {});\n",
              "        if (!dataTable) return;\n",
              "\n",
              "        const docLinkHtml = 'Like what you see? Visit the ' +\n",
              "          '<a target=\"_blank\" href=https://colab.research.google.com/notebooks/data_table.ipynb>data table notebook</a>'\n",
              "          + ' to learn more about interactive tables.';\n",
              "        element.innerHTML = '';\n",
              "        dataTable['output_type'] = 'display_data';\n",
              "        await google.colab.output.renderOutput(dataTable, element);\n",
              "        const docLink = document.createElement('div');\n",
              "        docLink.innerHTML = docLinkHtml;\n",
              "        element.appendChild(docLink);\n",
              "      }\n",
              "    </script>\n",
              "  </div>\n",
              "\n",
              "\n",
              "<div id=\"df-d7116437-4335-48f9-a6a8-c47c5b9ce9d6\">\n",
              "  <button class=\"colab-df-quickchart\" onclick=\"quickchart('df-d7116437-4335-48f9-a6a8-c47c5b9ce9d6')\"\n",
              "            title=\"Suggest charts.\"\n",
              "            style=\"display:none;\">\n",
              "\n",
              "<svg xmlns=\"http://www.w3.org/2000/svg\" height=\"24px\"viewBox=\"0 0 24 24\"\n",
              "     width=\"24px\">\n",
              "    <g>\n",
              "        <path d=\"M19 3H5c-1.1 0-2 .9-2 2v14c0 1.1.9 2 2 2h14c1.1 0 2-.9 2-2V5c0-1.1-.9-2-2-2zM9 17H7v-7h2v7zm4 0h-2V7h2v10zm4 0h-2v-4h2v4z\"/>\n",
              "    </g>\n",
              "</svg>\n",
              "  </button>\n",
              "\n",
              "<style>\n",
              "  .colab-df-quickchart {\n",
              "    background-color: #E8F0FE;\n",
              "    border: none;\n",
              "    border-radius: 50%;\n",
              "    cursor: pointer;\n",
              "    display: none;\n",
              "    fill: #1967D2;\n",
              "    height: 32px;\n",
              "    padding: 0 0 0 0;\n",
              "    width: 32px;\n",
              "  }\n",
              "\n",
              "  .colab-df-quickchart:hover {\n",
              "    background-color: #E2EBFA;\n",
              "    box-shadow: 0px 1px 2px rgba(60, 64, 67, 0.3), 0px 1px 3px 1px rgba(60, 64, 67, 0.15);\n",
              "    fill: #174EA6;\n",
              "  }\n",
              "\n",
              "  [theme=dark] .colab-df-quickchart {\n",
              "    background-color: #3B4455;\n",
              "    fill: #D2E3FC;\n",
              "  }\n",
              "\n",
              "  [theme=dark] .colab-df-quickchart:hover {\n",
              "    background-color: #434B5C;\n",
              "    box-shadow: 0px 1px 3px 1px rgba(0, 0, 0, 0.15);\n",
              "    filter: drop-shadow(0px 1px 2px rgba(0, 0, 0, 0.3));\n",
              "    fill: #FFFFFF;\n",
              "  }\n",
              "</style>\n",
              "\n",
              "  <script>\n",
              "    async function quickchart(key) {\n",
              "      const charts = await google.colab.kernel.invokeFunction(\n",
              "          'suggestCharts', [key], {});\n",
              "    }\n",
              "    (() => {\n",
              "      let quickchartButtonEl =\n",
              "        document.querySelector('#df-d7116437-4335-48f9-a6a8-c47c5b9ce9d6 button');\n",
              "      quickchartButtonEl.style.display =\n",
              "        google.colab.kernel.accessAllowed ? 'block' : 'none';\n",
              "    })();\n",
              "  </script>\n",
              "</div>\n",
              "    </div>\n",
              "  </div>\n"
            ],
            "text/plain": [
              "     ticketno alarmmsg_original  alarmmsg_original_1  alarmmsg_original_2  \\\n",
              "0  15238899.0           2 1 2 1                   14                    8   \n",
              "\n",
              "   alarmmsg_original_3  alarmlevel  slotna  portna  time_len  time_len  \n",
              "0                    0           4       1       1       0.0       0.0  "
            ]
          },
          "execution_count": 25,
          "metadata": {},
          "output_type": "execute_result"
        }
      ],
      "source": [
        "#test도 동일한 방식으로 데이터 병합\n",
        "test=pd.concat([x_test_df,test.drop(['ticketno'],axis=1)],axis=1)\n",
        "test.head(1)"
      ]
    },
    {
      "cell_type": "code",
      "execution_count": null,
      "metadata": {
        "id": "tav28m4VgKO7"
      },
      "outputs": [],
      "source": [
        "#trian에서 1,2,3으로 매핑 후 ticketno별로 결합된 경보 메세지만 따로 list로 생성\n",
        "length=data['alarmmsg_original']\n",
        "length=list(length)\n",
        "\n",
        "#경보 메세지 split 진행해서 각 전표 별 발생한 경보 메세지 개수 list에 담기\n",
        "len_list=[]\n",
        "\n",
        "for item in length:\n",
        "    tokens=item.split()\n",
        "    lengths=len(tokens)\n",
        "    len_list.append(lengths)\n",
        "\n",
        "#list 데이터 프레임으로 바꾸기\n",
        "len_df=pd.DataFrame(len_list)\n",
        "len_df.columns=['msg_len']"
      ]
    },
    {
      "cell_type": "code",
      "execution_count": null,
      "metadata": {
        "id": "hiQB_zOwgTZr"
      },
      "outputs": [],
      "source": [
        "#data에 msg_len 변수 추가 후 필요없는 변수 드랍\n",
        "data=pd.concat([data, len_df],axis=1)\n",
        "data.drop(['alarmmsg_original','alarmlevel'],axis=1,inplace=True)"
      ]
    },
    {
      "cell_type": "code",
      "execution_count": null,
      "metadata": {
        "id": "j2t46cKqgWnE"
      },
      "outputs": [],
      "source": [
        "#test에서도 동일한 방식으로 msg_len 변수 생성 후 test_x에 결합\n",
        "length=test['alarmmsg_original']\n",
        "length=list(length)\n",
        "\n",
        "len_list=[]\n",
        "\n",
        "for item in length:\n",
        "    tokens=item.split()\n",
        "    lengths=len(tokens)\n",
        "    len_list.append(lengths)\n",
        "\n",
        "len_df=pd.DataFrame(len_list)\n",
        "len_df.columns=['msg_len']\n",
        "\n",
        "test_x=pd.concat([test, len_df],axis=1)\n",
        "test_x.drop(['alarmmsg_original','alarmlevel'],axis=1,inplace=True)"
      ]
    },
    {
      "cell_type": "code",
      "execution_count": null,
      "metadata": {
        "colab": {
          "base_uri": "https://localhost:8080/",
          "height": 89
        },
        "id": "iULT0nIsgbpY",
        "outputId": "0e70d3a6-0378-4406-c1ce-e92d4b52f73f"
      },
      "outputs": [
        {
          "data": {
            "text/html": [
              "\n",
              "  <div id=\"df-fb6790d5-927d-409e-a7a2-6f65c2f90d35\" class=\"colab-df-container\">\n",
              "    <div>\n",
              "<style scoped>\n",
              "    .dataframe tbody tr th:only-of-type {\n",
              "        vertical-align: middle;\n",
              "    }\n",
              "\n",
              "    .dataframe tbody tr th {\n",
              "        vertical-align: top;\n",
              "    }\n",
              "\n",
              "    .dataframe thead th {\n",
              "        text-align: right;\n",
              "    }\n",
              "</style>\n",
              "<table border=\"1\" class=\"dataframe\">\n",
              "  <thead>\n",
              "    <tr style=\"text-align: right;\">\n",
              "      <th></th>\n",
              "      <th>ticketno</th>\n",
              "      <th>root_cause_type</th>\n",
              "      <th>alarmmsg_original_1</th>\n",
              "      <th>alarmmsg_original_2</th>\n",
              "      <th>alarmmsg_original_3</th>\n",
              "      <th>slotna</th>\n",
              "      <th>portna</th>\n",
              "      <th>time_len</th>\n",
              "      <th>msg_len</th>\n",
              "    </tr>\n",
              "  </thead>\n",
              "  <tbody>\n",
              "    <tr>\n",
              "      <th>0</th>\n",
              "      <td>14753084.0</td>\n",
              "      <td>2</td>\n",
              "      <td>21</td>\n",
              "      <td>13</td>\n",
              "      <td>0</td>\n",
              "      <td>1</td>\n",
              "      <td>1</td>\n",
              "      <td>5.016667</td>\n",
              "      <td>6</td>\n",
              "    </tr>\n",
              "  </tbody>\n",
              "</table>\n",
              "</div>\n",
              "    <div class=\"colab-df-buttons\">\n",
              "\n",
              "  <div class=\"colab-df-container\">\n",
              "    <button class=\"colab-df-convert\" onclick=\"convertToInteractive('df-fb6790d5-927d-409e-a7a2-6f65c2f90d35')\"\n",
              "            title=\"Convert this dataframe to an interactive table.\"\n",
              "            style=\"display:none;\">\n",
              "\n",
              "  <svg xmlns=\"http://www.w3.org/2000/svg\" height=\"24px\" viewBox=\"0 -960 960 960\">\n",
              "    <path d=\"M120-120v-720h720v720H120Zm60-500h600v-160H180v160Zm220 220h160v-160H400v160Zm0 220h160v-160H400v160ZM180-400h160v-160H180v160Zm440 0h160v-160H620v160ZM180-180h160v-160H180v160Zm440 0h160v-160H620v160Z\"/>\n",
              "  </svg>\n",
              "    </button>\n",
              "\n",
              "  <style>\n",
              "    .colab-df-container {\n",
              "      display:flex;\n",
              "      gap: 12px;\n",
              "    }\n",
              "\n",
              "    .colab-df-convert {\n",
              "      background-color: #E8F0FE;\n",
              "      border: none;\n",
              "      border-radius: 50%;\n",
              "      cursor: pointer;\n",
              "      display: none;\n",
              "      fill: #1967D2;\n",
              "      height: 32px;\n",
              "      padding: 0 0 0 0;\n",
              "      width: 32px;\n",
              "    }\n",
              "\n",
              "    .colab-df-convert:hover {\n",
              "      background-color: #E2EBFA;\n",
              "      box-shadow: 0px 1px 2px rgba(60, 64, 67, 0.3), 0px 1px 3px 1px rgba(60, 64, 67, 0.15);\n",
              "      fill: #174EA6;\n",
              "    }\n",
              "\n",
              "    .colab-df-buttons div {\n",
              "      margin-bottom: 4px;\n",
              "    }\n",
              "\n",
              "    [theme=dark] .colab-df-convert {\n",
              "      background-color: #3B4455;\n",
              "      fill: #D2E3FC;\n",
              "    }\n",
              "\n",
              "    [theme=dark] .colab-df-convert:hover {\n",
              "      background-color: #434B5C;\n",
              "      box-shadow: 0px 1px 3px 1px rgba(0, 0, 0, 0.15);\n",
              "      filter: drop-shadow(0px 1px 2px rgba(0, 0, 0, 0.3));\n",
              "      fill: #FFFFFF;\n",
              "    }\n",
              "  </style>\n",
              "\n",
              "    <script>\n",
              "      const buttonEl =\n",
              "        document.querySelector('#df-fb6790d5-927d-409e-a7a2-6f65c2f90d35 button.colab-df-convert');\n",
              "      buttonEl.style.display =\n",
              "        google.colab.kernel.accessAllowed ? 'block' : 'none';\n",
              "\n",
              "      async function convertToInteractive(key) {\n",
              "        const element = document.querySelector('#df-fb6790d5-927d-409e-a7a2-6f65c2f90d35');\n",
              "        const dataTable =\n",
              "          await google.colab.kernel.invokeFunction('convertToInteractive',\n",
              "                                                    [key], {});\n",
              "        if (!dataTable) return;\n",
              "\n",
              "        const docLinkHtml = 'Like what you see? Visit the ' +\n",
              "          '<a target=\"_blank\" href=https://colab.research.google.com/notebooks/data_table.ipynb>data table notebook</a>'\n",
              "          + ' to learn more about interactive tables.';\n",
              "        element.innerHTML = '';\n",
              "        dataTable['output_type'] = 'display_data';\n",
              "        await google.colab.output.renderOutput(dataTable, element);\n",
              "        const docLink = document.createElement('div');\n",
              "        docLink.innerHTML = docLinkHtml;\n",
              "        element.appendChild(docLink);\n",
              "      }\n",
              "    </script>\n",
              "  </div>\n",
              "\n",
              "\n",
              "<div id=\"df-6148c6eb-239a-4c96-a9d7-ad6507b05160\">\n",
              "  <button class=\"colab-df-quickchart\" onclick=\"quickchart('df-6148c6eb-239a-4c96-a9d7-ad6507b05160')\"\n",
              "            title=\"Suggest charts.\"\n",
              "            style=\"display:none;\">\n",
              "\n",
              "<svg xmlns=\"http://www.w3.org/2000/svg\" height=\"24px\"viewBox=\"0 0 24 24\"\n",
              "     width=\"24px\">\n",
              "    <g>\n",
              "        <path d=\"M19 3H5c-1.1 0-2 .9-2 2v14c0 1.1.9 2 2 2h14c1.1 0 2-.9 2-2V5c0-1.1-.9-2-2-2zM9 17H7v-7h2v7zm4 0h-2V7h2v10zm4 0h-2v-4h2v4z\"/>\n",
              "    </g>\n",
              "</svg>\n",
              "  </button>\n",
              "\n",
              "<style>\n",
              "  .colab-df-quickchart {\n",
              "    background-color: #E8F0FE;\n",
              "    border: none;\n",
              "    border-radius: 50%;\n",
              "    cursor: pointer;\n",
              "    display: none;\n",
              "    fill: #1967D2;\n",
              "    height: 32px;\n",
              "    padding: 0 0 0 0;\n",
              "    width: 32px;\n",
              "  }\n",
              "\n",
              "  .colab-df-quickchart:hover {\n",
              "    background-color: #E2EBFA;\n",
              "    box-shadow: 0px 1px 2px rgba(60, 64, 67, 0.3), 0px 1px 3px 1px rgba(60, 64, 67, 0.15);\n",
              "    fill: #174EA6;\n",
              "  }\n",
              "\n",
              "  [theme=dark] .colab-df-quickchart {\n",
              "    background-color: #3B4455;\n",
              "    fill: #D2E3FC;\n",
              "  }\n",
              "\n",
              "  [theme=dark] .colab-df-quickchart:hover {\n",
              "    background-color: #434B5C;\n",
              "    box-shadow: 0px 1px 3px 1px rgba(0, 0, 0, 0.15);\n",
              "    filter: drop-shadow(0px 1px 2px rgba(0, 0, 0, 0.3));\n",
              "    fill: #FFFFFF;\n",
              "  }\n",
              "</style>\n",
              "\n",
              "  <script>\n",
              "    async function quickchart(key) {\n",
              "      const charts = await google.colab.kernel.invokeFunction(\n",
              "          'suggestCharts', [key], {});\n",
              "    }\n",
              "    (() => {\n",
              "      let quickchartButtonEl =\n",
              "        document.querySelector('#df-6148c6eb-239a-4c96-a9d7-ad6507b05160 button');\n",
              "      quickchartButtonEl.style.display =\n",
              "        google.colab.kernel.accessAllowed ? 'block' : 'none';\n",
              "    })();\n",
              "  </script>\n",
              "</div>\n",
              "    </div>\n",
              "  </div>\n"
            ],
            "text/plain": [
              "     ticketno  root_cause_type  alarmmsg_original_1  alarmmsg_original_2  \\\n",
              "0  14753084.0                2                   21                   13   \n",
              "\n",
              "   alarmmsg_original_3  slotna  portna  time_len  msg_len  \n",
              "0                    0       1       1  5.016667        6  "
            ]
          },
          "execution_count": 30,
          "metadata": {},
          "output_type": "execute_result"
        }
      ],
      "source": [
        "data.head(1)"
      ]
    },
    {
      "cell_type": "code",
      "execution_count": null,
      "metadata": {
        "colab": {
          "base_uri": "https://localhost:8080/",
          "height": 89
        },
        "id": "zJiJ8ZMagdSe",
        "outputId": "b61617c2-c793-46ed-9d48-4828f78c9e89"
      },
      "outputs": [
        {
          "data": {
            "text/html": [
              "\n",
              "  <div id=\"df-120eabf2-aec1-406b-98c0-584651553264\" class=\"colab-df-container\">\n",
              "    <div>\n",
              "<style scoped>\n",
              "    .dataframe tbody tr th:only-of-type {\n",
              "        vertical-align: middle;\n",
              "    }\n",
              "\n",
              "    .dataframe tbody tr th {\n",
              "        vertical-align: top;\n",
              "    }\n",
              "\n",
              "    .dataframe thead th {\n",
              "        text-align: right;\n",
              "    }\n",
              "</style>\n",
              "<table border=\"1\" class=\"dataframe\">\n",
              "  <thead>\n",
              "    <tr style=\"text-align: right;\">\n",
              "      <th></th>\n",
              "      <th>ticketno</th>\n",
              "      <th>alarmmsg_original_1</th>\n",
              "      <th>alarmmsg_original_2</th>\n",
              "      <th>alarmmsg_original_3</th>\n",
              "      <th>slotna</th>\n",
              "      <th>portna</th>\n",
              "      <th>time_len</th>\n",
              "      <th>time_len</th>\n",
              "      <th>msg_len</th>\n",
              "    </tr>\n",
              "  </thead>\n",
              "  <tbody>\n",
              "    <tr>\n",
              "      <th>0</th>\n",
              "      <td>15238899.0</td>\n",
              "      <td>14</td>\n",
              "      <td>8</td>\n",
              "      <td>0</td>\n",
              "      <td>1</td>\n",
              "      <td>1</td>\n",
              "      <td>0.0</td>\n",
              "      <td>0.0</td>\n",
              "      <td>4</td>\n",
              "    </tr>\n",
              "  </tbody>\n",
              "</table>\n",
              "</div>\n",
              "    <div class=\"colab-df-buttons\">\n",
              "\n",
              "  <div class=\"colab-df-container\">\n",
              "    <button class=\"colab-df-convert\" onclick=\"convertToInteractive('df-120eabf2-aec1-406b-98c0-584651553264')\"\n",
              "            title=\"Convert this dataframe to an interactive table.\"\n",
              "            style=\"display:none;\">\n",
              "\n",
              "  <svg xmlns=\"http://www.w3.org/2000/svg\" height=\"24px\" viewBox=\"0 -960 960 960\">\n",
              "    <path d=\"M120-120v-720h720v720H120Zm60-500h600v-160H180v160Zm220 220h160v-160H400v160Zm0 220h160v-160H400v160ZM180-400h160v-160H180v160Zm440 0h160v-160H620v160ZM180-180h160v-160H180v160Zm440 0h160v-160H620v160Z\"/>\n",
              "  </svg>\n",
              "    </button>\n",
              "\n",
              "  <style>\n",
              "    .colab-df-container {\n",
              "      display:flex;\n",
              "      gap: 12px;\n",
              "    }\n",
              "\n",
              "    .colab-df-convert {\n",
              "      background-color: #E8F0FE;\n",
              "      border: none;\n",
              "      border-radius: 50%;\n",
              "      cursor: pointer;\n",
              "      display: none;\n",
              "      fill: #1967D2;\n",
              "      height: 32px;\n",
              "      padding: 0 0 0 0;\n",
              "      width: 32px;\n",
              "    }\n",
              "\n",
              "    .colab-df-convert:hover {\n",
              "      background-color: #E2EBFA;\n",
              "      box-shadow: 0px 1px 2px rgba(60, 64, 67, 0.3), 0px 1px 3px 1px rgba(60, 64, 67, 0.15);\n",
              "      fill: #174EA6;\n",
              "    }\n",
              "\n",
              "    .colab-df-buttons div {\n",
              "      margin-bottom: 4px;\n",
              "    }\n",
              "\n",
              "    [theme=dark] .colab-df-convert {\n",
              "      background-color: #3B4455;\n",
              "      fill: #D2E3FC;\n",
              "    }\n",
              "\n",
              "    [theme=dark] .colab-df-convert:hover {\n",
              "      background-color: #434B5C;\n",
              "      box-shadow: 0px 1px 3px 1px rgba(0, 0, 0, 0.15);\n",
              "      filter: drop-shadow(0px 1px 2px rgba(0, 0, 0, 0.3));\n",
              "      fill: #FFFFFF;\n",
              "    }\n",
              "  </style>\n",
              "\n",
              "    <script>\n",
              "      const buttonEl =\n",
              "        document.querySelector('#df-120eabf2-aec1-406b-98c0-584651553264 button.colab-df-convert');\n",
              "      buttonEl.style.display =\n",
              "        google.colab.kernel.accessAllowed ? 'block' : 'none';\n",
              "\n",
              "      async function convertToInteractive(key) {\n",
              "        const element = document.querySelector('#df-120eabf2-aec1-406b-98c0-584651553264');\n",
              "        const dataTable =\n",
              "          await google.colab.kernel.invokeFunction('convertToInteractive',\n",
              "                                                    [key], {});\n",
              "        if (!dataTable) return;\n",
              "\n",
              "        const docLinkHtml = 'Like what you see? Visit the ' +\n",
              "          '<a target=\"_blank\" href=https://colab.research.google.com/notebooks/data_table.ipynb>data table notebook</a>'\n",
              "          + ' to learn more about interactive tables.';\n",
              "        element.innerHTML = '';\n",
              "        dataTable['output_type'] = 'display_data';\n",
              "        await google.colab.output.renderOutput(dataTable, element);\n",
              "        const docLink = document.createElement('div');\n",
              "        docLink.innerHTML = docLinkHtml;\n",
              "        element.appendChild(docLink);\n",
              "      }\n",
              "    </script>\n",
              "  </div>\n",
              "\n",
              "\n",
              "<div id=\"df-f40cb454-daed-41b2-a783-7f69ca4c5c4b\">\n",
              "  <button class=\"colab-df-quickchart\" onclick=\"quickchart('df-f40cb454-daed-41b2-a783-7f69ca4c5c4b')\"\n",
              "            title=\"Suggest charts.\"\n",
              "            style=\"display:none;\">\n",
              "\n",
              "<svg xmlns=\"http://www.w3.org/2000/svg\" height=\"24px\"viewBox=\"0 0 24 24\"\n",
              "     width=\"24px\">\n",
              "    <g>\n",
              "        <path d=\"M19 3H5c-1.1 0-2 .9-2 2v14c0 1.1.9 2 2 2h14c1.1 0 2-.9 2-2V5c0-1.1-.9-2-2-2zM9 17H7v-7h2v7zm4 0h-2V7h2v10zm4 0h-2v-4h2v4z\"/>\n",
              "    </g>\n",
              "</svg>\n",
              "  </button>\n",
              "\n",
              "<style>\n",
              "  .colab-df-quickchart {\n",
              "    background-color: #E8F0FE;\n",
              "    border: none;\n",
              "    border-radius: 50%;\n",
              "    cursor: pointer;\n",
              "    display: none;\n",
              "    fill: #1967D2;\n",
              "    height: 32px;\n",
              "    padding: 0 0 0 0;\n",
              "    width: 32px;\n",
              "  }\n",
              "\n",
              "  .colab-df-quickchart:hover {\n",
              "    background-color: #E2EBFA;\n",
              "    box-shadow: 0px 1px 2px rgba(60, 64, 67, 0.3), 0px 1px 3px 1px rgba(60, 64, 67, 0.15);\n",
              "    fill: #174EA6;\n",
              "  }\n",
              "\n",
              "  [theme=dark] .colab-df-quickchart {\n",
              "    background-color: #3B4455;\n",
              "    fill: #D2E3FC;\n",
              "  }\n",
              "\n",
              "  [theme=dark] .colab-df-quickchart:hover {\n",
              "    background-color: #434B5C;\n",
              "    box-shadow: 0px 1px 3px 1px rgba(0, 0, 0, 0.15);\n",
              "    filter: drop-shadow(0px 1px 2px rgba(0, 0, 0, 0.3));\n",
              "    fill: #FFFFFF;\n",
              "  }\n",
              "</style>\n",
              "\n",
              "  <script>\n",
              "    async function quickchart(key) {\n",
              "      const charts = await google.colab.kernel.invokeFunction(\n",
              "          'suggestCharts', [key], {});\n",
              "    }\n",
              "    (() => {\n",
              "      let quickchartButtonEl =\n",
              "        document.querySelector('#df-f40cb454-daed-41b2-a783-7f69ca4c5c4b button');\n",
              "      quickchartButtonEl.style.display =\n",
              "        google.colab.kernel.accessAllowed ? 'block' : 'none';\n",
              "    })();\n",
              "  </script>\n",
              "</div>\n",
              "    </div>\n",
              "  </div>\n"
            ],
            "text/plain": [
              "     ticketno  alarmmsg_original_1  alarmmsg_original_2  alarmmsg_original_3  \\\n",
              "0  15238899.0                   14                    8                    0   \n",
              "\n",
              "   slotna  portna  time_len  time_len  msg_len  \n",
              "0       1       1       0.0       0.0        4  "
            ]
          },
          "execution_count": 32,
          "metadata": {},
          "output_type": "execute_result"
        }
      ],
      "source": [
        "test_x.head(1)"
      ]
    },
    {
      "cell_type": "code",
      "execution_count": null,
      "metadata": {
        "id": "P_j3to2QgvP7"
      },
      "outputs": [],
      "source": [
        "#파일로 만들기\n",
        "data.to_csv('Q2_train_최종.csv',index=False)\n",
        "test_x.to_csv('Q2_test_최종.csv',index=False)"
      ]
    }
  ],
  "metadata": {
    "colab": {
      "provenance": []
    },
    "kernelspec": {
      "display_name": "Python 3",
      "name": "python3"
    },
    "language_info": {
      "name": "python"
    }
  },
  "nbformat": 4,
  "nbformat_minor": 0
}
