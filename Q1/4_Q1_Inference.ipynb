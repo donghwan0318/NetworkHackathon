{
  "nbformat": 4,
  "nbformat_minor": 0,
  "metadata": {
    "colab": {
      "provenance": []
    },
    "kernelspec": {
      "name": "python3",
      "display_name": "Python 3"
    },
    "language_info": {
      "name": "python"
    }
  },
  "cells": [
    {
      "cell_type": "code",
      "source": [
        "! pip install joblib"
      ],
      "metadata": {
        "id": "m2cq0MkFry0G"
      },
      "execution_count": null,
      "outputs": []
    },
    {
      "cell_type": "code",
      "source": [
        "! pip install pandas"
      ],
      "metadata": {
        "id": "vBQhufsnr6HV"
      },
      "execution_count": null,
      "outputs": []
    },
    {
      "cell_type": "code",
      "source": [
        "! pip install numpy"
      ],
      "metadata": {
        "id": "-hjgzArCr8F1"
      },
      "execution_count": null,
      "outputs": []
    },
    {
      "cell_type": "code",
      "source": [
        "! pip install lightgbm"
      ],
      "metadata": {
        "id": "u9D-AiaUr1BY"
      },
      "execution_count": null,
      "outputs": []
    },
    {
      "cell_type": "code",
      "source": [
        "! pip install sklearn"
      ],
      "metadata": {
        "id": "ZkYUfIG4r2Pl"
      },
      "execution_count": null,
      "outputs": []
    },
    {
      "cell_type": "code",
      "source": [
        "! pip install statistics"
      ],
      "metadata": {
        "id": "Tx_udhpbtNQV"
      },
      "execution_count": null,
      "outputs": []
    },
    {
      "cell_type": "code",
      "execution_count": 1,
      "metadata": {
        "id": "8UMB8g16q5fN"
      },
      "outputs": [],
      "source": [
        "import pandas as pd\n",
        "import numpy as np\n",
        "import joblib as jl"
      ]
    },
    {
      "cell_type": "code",
      "source": [
        "#드라이브 미 사용시 코드 블록 제거\n",
        "from google.colab import drive\n",
        "drive.mount('/content/drive')"
      ],
      "metadata": {
        "colab": {
          "base_uri": "https://localhost:8080/"
        },
        "id": "RBJS1mvKrALa",
        "outputId": "cd623d8b-8c5d-4426-c569-e76da06e0fdf"
      },
      "execution_count": 2,
      "outputs": [
        {
          "output_type": "stream",
          "name": "stdout",
          "text": [
            "Mounted at /content/drive\n"
          ]
        }
      ]
    },
    {
      "cell_type": "code",
      "source": [
        "#파일경로\n",
        "%cd /content/drive/MyDrive/통신망해커톤/Q1_data"
      ],
      "metadata": {
        "colab": {
          "base_uri": "https://localhost:8080/"
        },
        "id": "efT27Gb7uvMk",
        "outputId": "767ec2ed-e940-400c-c989-f167ef3d807f"
      },
      "execution_count": 4,
      "outputs": [
        {
          "output_type": "stream",
          "name": "stdout",
          "text": [
            "/content/drive/MyDrive/통신망해커톤/Q1_data\n"
          ]
        }
      ]
    },
    {
      "cell_type": "markdown",
      "source": [
        "데이터 불러오기"
      ],
      "metadata": {
        "id": "UbcBY56As0Hs"
      }
    },
    {
      "cell_type": "code",
      "source": [
        "train = pd.read_csv('Q1_tr_최종전처리.csv')\n",
        "test = pd.read_csv('Q1_te_최종전처리.csv')"
      ],
      "metadata": {
        "id": "WpA0VL-As1PM"
      },
      "execution_count": 5,
      "outputs": []
    },
    {
      "cell_type": "code",
      "source": [
        "#0~12 클래스만 남기기\n",
        "idx = train[train['uenomax']>12].index\n",
        "train.drop(idx, axis=0, inplace=True)"
      ],
      "metadata": {
        "id": "AKXV8R-As1lh"
      },
      "execution_count": 6,
      "outputs": []
    },
    {
      "cell_type": "code",
      "source": [
        "X = train.drop(['uenomax', 'ru_id'], axis=1)\n",
        "y = train['uenomax']"
      ],
      "metadata": {
        "id": "-6czymv3s2G7"
      },
      "execution_count": 7,
      "outputs": []
    },
    {
      "cell_type": "code",
      "source": [
        "test = test.drop(['ru_id'], axis=1)"
      ],
      "metadata": {
        "id": "jFN9Hxa4s2En"
      },
      "execution_count": 8,
      "outputs": []
    },
    {
      "cell_type": "code",
      "source": [
        "#스케일링\n",
        "from sklearn.preprocessing import MinMaxScaler\n",
        "\n",
        "scaler_ = MinMaxScaler()\n",
        "scaler_.fit(X)\n",
        "X = scaler_.transform(X)\n",
        "test = scaler_.transform(test)"
      ],
      "metadata": {
        "id": "vOhTUfBws2CU"
      },
      "execution_count": 9,
      "outputs": []
    },
    {
      "cell_type": "markdown",
      "source": [
        "모델 불러오기"
      ],
      "metadata": {
        "id": "I7pCAucmsy8X"
      }
    },
    {
      "cell_type": "code",
      "source": [
        "model1 = jl.load('Q1_lgbm12optuna_submitmae0.4089.pkl')\n",
        "model2 = jl.load('Q1_lgbm12optuna_submitmae0.4087.pkl')\n",
        "model3 = jl.load('Q1_lgbm12optuna_submitmae0.4094.pkl')"
      ],
      "metadata": {
        "id": "KKXk4jgmrLif"
      },
      "execution_count": 10,
      "outputs": []
    },
    {
      "cell_type": "markdown",
      "source": [
        "pred1"
      ],
      "metadata": {
        "id": "jAgkeLWSsZ8S"
      }
    },
    {
      "cell_type": "code",
      "source": [
        "pred1 = model1.predict(test)"
      ],
      "metadata": {
        "id": "5jpj8C0jsF8P"
      },
      "execution_count": 11,
      "outputs": []
    },
    {
      "cell_type": "code",
      "source": [
        "rst1 = pd.read_csv('Q1_test.csv', usecols=['datetime', 'ru_id'])\n",
        "rst1['uenomax'] = pred1"
      ],
      "metadata": {
        "id": "Nk3zEQnnsP9C"
      },
      "execution_count": 12,
      "outputs": []
    },
    {
      "cell_type": "code",
      "source": [
        "def ppr_label(df):\n",
        "    df = df[['datetime', 'ru_id', 'uenomax']]  # 레이블 추출\n",
        "    df_pivot = df.pivot_table(index='datetime', columns='ru_id', values='uenomax', fill_value=0)  # 데이터 재구성\n",
        "    return df_pivot\n",
        "\n",
        "rst1 = ppr_label(rst1)"
      ],
      "metadata": {
        "id": "WRrNIeS4sRGA"
      },
      "execution_count": 13,
      "outputs": []
    },
    {
      "cell_type": "code",
      "source": [
        "rst1.reset_index(inplace=True)"
      ],
      "metadata": {
        "id": "pRxnup7IsShB"
      },
      "execution_count": 14,
      "outputs": []
    },
    {
      "cell_type": "markdown",
      "source": [
        "pred2"
      ],
      "metadata": {
        "id": "DPxaaQO9sdBa"
      }
    },
    {
      "cell_type": "code",
      "source": [
        "pred2 = model2.predict(test)"
      ],
      "metadata": {
        "id": "c34zS33-sdBa"
      },
      "execution_count": 15,
      "outputs": []
    },
    {
      "cell_type": "code",
      "source": [
        "rst2 = pd.read_csv('Q1_test.csv', usecols=['datetime', 'ru_id'])\n",
        "rst2['uenomax'] = pred2"
      ],
      "metadata": {
        "id": "d73dGvbgsdBa"
      },
      "execution_count": 16,
      "outputs": []
    },
    {
      "cell_type": "code",
      "source": [
        "def ppr_label(df):\n",
        "    df = df[['datetime', 'ru_id', 'uenomax']]  # 레이블 추출\n",
        "    df_pivot = df.pivot_table(index='datetime', columns='ru_id', values='uenomax', fill_value=0)  # 데이터 재구성\n",
        "    return df_pivot\n",
        "\n",
        "rst2 = ppr_label(rst2)"
      ],
      "metadata": {
        "id": "x_2or4rEsdBa"
      },
      "execution_count": 17,
      "outputs": []
    },
    {
      "cell_type": "code",
      "source": [
        "rst2.reset_index(inplace=True)"
      ],
      "metadata": {
        "id": "RpaEwb96sdBa"
      },
      "execution_count": 18,
      "outputs": []
    },
    {
      "cell_type": "markdown",
      "source": [
        "pred3"
      ],
      "metadata": {
        "id": "vYjP9WREsdi0"
      }
    },
    {
      "cell_type": "code",
      "source": [
        "pred3 = model3.predict(test)"
      ],
      "metadata": {
        "id": "nNth41E_sdi0"
      },
      "execution_count": 19,
      "outputs": []
    },
    {
      "cell_type": "code",
      "source": [
        "rst3 = pd.read_csv('Q1_test.csv', usecols=['datetime', 'ru_id'])\n",
        "rst3['uenomax'] = pred3"
      ],
      "metadata": {
        "id": "9f55cBz9sdi0"
      },
      "execution_count": 20,
      "outputs": []
    },
    {
      "cell_type": "code",
      "source": [
        "def ppr_label(df):\n",
        "    df = df[['datetime', 'ru_id', 'uenomax']]  # 레이블 추출\n",
        "    df_pivot = df.pivot_table(index='datetime', columns='ru_id', values='uenomax', fill_value=0)  # 데이터 재구성\n",
        "    return df_pivot\n",
        "\n",
        "rst3 = ppr_label(rst3)"
      ],
      "metadata": {
        "id": "rBztF_7isdi0"
      },
      "execution_count": 21,
      "outputs": []
    },
    {
      "cell_type": "code",
      "source": [
        "rst3.reset_index(inplace=True)"
      ],
      "metadata": {
        "id": "UBQfbhvesdi0"
      },
      "execution_count": 22,
      "outputs": []
    },
    {
      "cell_type": "markdown",
      "source": [
        "voting"
      ],
      "metadata": {
        "id": "ao9_Twwus-HS"
      }
    },
    {
      "cell_type": "code",
      "source": [
        "rstlist = [rst1,rst2,rst3]"
      ],
      "metadata": {
        "id": "aAI5NQgPs-pz"
      },
      "execution_count": 23,
      "outputs": []
    },
    {
      "cell_type": "code",
      "source": [
        "import statistics\n",
        "\n",
        "finaldf = pd.DataFrame({'datetime':rstlist[0]['datetime'],\n",
        "                        'BaseStationB':None,\n",
        "                        'BaseStationJ':None})\n",
        "\n",
        "for c in range(2):\n",
        "  c += 1\n",
        "  for i in range(17181):\n",
        "    votes = []\n",
        "    for df in rstlist:\n",
        "      v = df.iloc[i, c]\n",
        "      votes.append(v)\n",
        "    if len(set(votes)) == 3: #세 모델이 모두 다르게 예측한 경우\n",
        "      major = votes[1] #가장 mae가 낮은 두 번째 모델의 예측값\n",
        "    else:\n",
        "      major = statistics.mode(votes) #최빈값(hard voting)\n",
        "    finaldf.iloc[i,c] = major"
      ],
      "metadata": {
        "id": "-ZAvQomttL9V"
      },
      "execution_count": 24,
      "outputs": []
    },
    {
      "cell_type": "code",
      "source": [
        "finaldf"
      ],
      "metadata": {
        "colab": {
          "base_uri": "https://localhost:8080/",
          "height": 423
        },
        "id": "8pApIXMqtWZw",
        "outputId": "cc4dde61-ab9b-476e-b00b-8993e1185b99"
      },
      "execution_count": 25,
      "outputs": [
        {
          "output_type": "execute_result",
          "data": {
            "text/plain": [
              "                  datetime BaseStationB BaseStationJ\n",
              "0      2023-05-19 00:00:00            1            1\n",
              "1      2023-05-19 00:05:00            2            2\n",
              "2      2023-05-19 00:10:00            2            2\n",
              "3      2023-05-19 00:15:00            2            1\n",
              "4      2023-05-19 00:20:00            2            2\n",
              "...                    ...          ...          ...\n",
              "17176  2023-07-17 15:30:00            2            2\n",
              "17177  2023-07-17 15:35:00            1            2\n",
              "17178  2023-07-17 15:40:00            2            2\n",
              "17179  2023-07-17 15:45:00            3            1\n",
              "17180  2023-07-17 15:50:00            3            2\n",
              "\n",
              "[17181 rows x 3 columns]"
            ],
            "text/html": [
              "\n",
              "  <div id=\"df-a7c83efc-77da-409c-8d3f-fa5736ad7523\" class=\"colab-df-container\">\n",
              "    <div>\n",
              "<style scoped>\n",
              "    .dataframe tbody tr th:only-of-type {\n",
              "        vertical-align: middle;\n",
              "    }\n",
              "\n",
              "    .dataframe tbody tr th {\n",
              "        vertical-align: top;\n",
              "    }\n",
              "\n",
              "    .dataframe thead th {\n",
              "        text-align: right;\n",
              "    }\n",
              "</style>\n",
              "<table border=\"1\" class=\"dataframe\">\n",
              "  <thead>\n",
              "    <tr style=\"text-align: right;\">\n",
              "      <th></th>\n",
              "      <th>datetime</th>\n",
              "      <th>BaseStationB</th>\n",
              "      <th>BaseStationJ</th>\n",
              "    </tr>\n",
              "  </thead>\n",
              "  <tbody>\n",
              "    <tr>\n",
              "      <th>0</th>\n",
              "      <td>2023-05-19 00:00:00</td>\n",
              "      <td>1</td>\n",
              "      <td>1</td>\n",
              "    </tr>\n",
              "    <tr>\n",
              "      <th>1</th>\n",
              "      <td>2023-05-19 00:05:00</td>\n",
              "      <td>2</td>\n",
              "      <td>2</td>\n",
              "    </tr>\n",
              "    <tr>\n",
              "      <th>2</th>\n",
              "      <td>2023-05-19 00:10:00</td>\n",
              "      <td>2</td>\n",
              "      <td>2</td>\n",
              "    </tr>\n",
              "    <tr>\n",
              "      <th>3</th>\n",
              "      <td>2023-05-19 00:15:00</td>\n",
              "      <td>2</td>\n",
              "      <td>1</td>\n",
              "    </tr>\n",
              "    <tr>\n",
              "      <th>4</th>\n",
              "      <td>2023-05-19 00:20:00</td>\n",
              "      <td>2</td>\n",
              "      <td>2</td>\n",
              "    </tr>\n",
              "    <tr>\n",
              "      <th>...</th>\n",
              "      <td>...</td>\n",
              "      <td>...</td>\n",
              "      <td>...</td>\n",
              "    </tr>\n",
              "    <tr>\n",
              "      <th>17176</th>\n",
              "      <td>2023-07-17 15:30:00</td>\n",
              "      <td>2</td>\n",
              "      <td>2</td>\n",
              "    </tr>\n",
              "    <tr>\n",
              "      <th>17177</th>\n",
              "      <td>2023-07-17 15:35:00</td>\n",
              "      <td>1</td>\n",
              "      <td>2</td>\n",
              "    </tr>\n",
              "    <tr>\n",
              "      <th>17178</th>\n",
              "      <td>2023-07-17 15:40:00</td>\n",
              "      <td>2</td>\n",
              "      <td>2</td>\n",
              "    </tr>\n",
              "    <tr>\n",
              "      <th>17179</th>\n",
              "      <td>2023-07-17 15:45:00</td>\n",
              "      <td>3</td>\n",
              "      <td>1</td>\n",
              "    </tr>\n",
              "    <tr>\n",
              "      <th>17180</th>\n",
              "      <td>2023-07-17 15:50:00</td>\n",
              "      <td>3</td>\n",
              "      <td>2</td>\n",
              "    </tr>\n",
              "  </tbody>\n",
              "</table>\n",
              "<p>17181 rows × 3 columns</p>\n",
              "</div>\n",
              "    <div class=\"colab-df-buttons\">\n",
              "\n",
              "  <div class=\"colab-df-container\">\n",
              "    <button class=\"colab-df-convert\" onclick=\"convertToInteractive('df-a7c83efc-77da-409c-8d3f-fa5736ad7523')\"\n",
              "            title=\"Convert this dataframe to an interactive table.\"\n",
              "            style=\"display:none;\">\n",
              "\n",
              "  <svg xmlns=\"http://www.w3.org/2000/svg\" height=\"24px\" viewBox=\"0 -960 960 960\">\n",
              "    <path d=\"M120-120v-720h720v720H120Zm60-500h600v-160H180v160Zm220 220h160v-160H400v160Zm0 220h160v-160H400v160ZM180-400h160v-160H180v160Zm440 0h160v-160H620v160ZM180-180h160v-160H180v160Zm440 0h160v-160H620v160Z\"/>\n",
              "  </svg>\n",
              "    </button>\n",
              "\n",
              "  <style>\n",
              "    .colab-df-container {\n",
              "      display:flex;\n",
              "      gap: 12px;\n",
              "    }\n",
              "\n",
              "    .colab-df-convert {\n",
              "      background-color: #E8F0FE;\n",
              "      border: none;\n",
              "      border-radius: 50%;\n",
              "      cursor: pointer;\n",
              "      display: none;\n",
              "      fill: #1967D2;\n",
              "      height: 32px;\n",
              "      padding: 0 0 0 0;\n",
              "      width: 32px;\n",
              "    }\n",
              "\n",
              "    .colab-df-convert:hover {\n",
              "      background-color: #E2EBFA;\n",
              "      box-shadow: 0px 1px 2px rgba(60, 64, 67, 0.3), 0px 1px 3px 1px rgba(60, 64, 67, 0.15);\n",
              "      fill: #174EA6;\n",
              "    }\n",
              "\n",
              "    .colab-df-buttons div {\n",
              "      margin-bottom: 4px;\n",
              "    }\n",
              "\n",
              "    [theme=dark] .colab-df-convert {\n",
              "      background-color: #3B4455;\n",
              "      fill: #D2E3FC;\n",
              "    }\n",
              "\n",
              "    [theme=dark] .colab-df-convert:hover {\n",
              "      background-color: #434B5C;\n",
              "      box-shadow: 0px 1px 3px 1px rgba(0, 0, 0, 0.15);\n",
              "      filter: drop-shadow(0px 1px 2px rgba(0, 0, 0, 0.3));\n",
              "      fill: #FFFFFF;\n",
              "    }\n",
              "  </style>\n",
              "\n",
              "    <script>\n",
              "      const buttonEl =\n",
              "        document.querySelector('#df-a7c83efc-77da-409c-8d3f-fa5736ad7523 button.colab-df-convert');\n",
              "      buttonEl.style.display =\n",
              "        google.colab.kernel.accessAllowed ? 'block' : 'none';\n",
              "\n",
              "      async function convertToInteractive(key) {\n",
              "        const element = document.querySelector('#df-a7c83efc-77da-409c-8d3f-fa5736ad7523');\n",
              "        const dataTable =\n",
              "          await google.colab.kernel.invokeFunction('convertToInteractive',\n",
              "                                                    [key], {});\n",
              "        if (!dataTable) return;\n",
              "\n",
              "        const docLinkHtml = 'Like what you see? Visit the ' +\n",
              "          '<a target=\"_blank\" href=https://colab.research.google.com/notebooks/data_table.ipynb>data table notebook</a>'\n",
              "          + ' to learn more about interactive tables.';\n",
              "        element.innerHTML = '';\n",
              "        dataTable['output_type'] = 'display_data';\n",
              "        await google.colab.output.renderOutput(dataTable, element);\n",
              "        const docLink = document.createElement('div');\n",
              "        docLink.innerHTML = docLinkHtml;\n",
              "        element.appendChild(docLink);\n",
              "      }\n",
              "    </script>\n",
              "  </div>\n",
              "\n",
              "\n",
              "<div id=\"df-8bf8d35e-7388-40c5-8497-5beddadbc80c\">\n",
              "  <button class=\"colab-df-quickchart\" onclick=\"quickchart('df-8bf8d35e-7388-40c5-8497-5beddadbc80c')\"\n",
              "            title=\"Suggest charts.\"\n",
              "            style=\"display:none;\">\n",
              "\n",
              "<svg xmlns=\"http://www.w3.org/2000/svg\" height=\"24px\"viewBox=\"0 0 24 24\"\n",
              "     width=\"24px\">\n",
              "    <g>\n",
              "        <path d=\"M19 3H5c-1.1 0-2 .9-2 2v14c0 1.1.9 2 2 2h14c1.1 0 2-.9 2-2V5c0-1.1-.9-2-2-2zM9 17H7v-7h2v7zm4 0h-2V7h2v10zm4 0h-2v-4h2v4z\"/>\n",
              "    </g>\n",
              "</svg>\n",
              "  </button>\n",
              "\n",
              "<style>\n",
              "  .colab-df-quickchart {\n",
              "    background-color: #E8F0FE;\n",
              "    border: none;\n",
              "    border-radius: 50%;\n",
              "    cursor: pointer;\n",
              "    display: none;\n",
              "    fill: #1967D2;\n",
              "    height: 32px;\n",
              "    padding: 0 0 0 0;\n",
              "    width: 32px;\n",
              "  }\n",
              "\n",
              "  .colab-df-quickchart:hover {\n",
              "    background-color: #E2EBFA;\n",
              "    box-shadow: 0px 1px 2px rgba(60, 64, 67, 0.3), 0px 1px 3px 1px rgba(60, 64, 67, 0.15);\n",
              "    fill: #174EA6;\n",
              "  }\n",
              "\n",
              "  [theme=dark] .colab-df-quickchart {\n",
              "    background-color: #3B4455;\n",
              "    fill: #D2E3FC;\n",
              "  }\n",
              "\n",
              "  [theme=dark] .colab-df-quickchart:hover {\n",
              "    background-color: #434B5C;\n",
              "    box-shadow: 0px 1px 3px 1px rgba(0, 0, 0, 0.15);\n",
              "    filter: drop-shadow(0px 1px 2px rgba(0, 0, 0, 0.3));\n",
              "    fill: #FFFFFF;\n",
              "  }\n",
              "</style>\n",
              "\n",
              "  <script>\n",
              "    async function quickchart(key) {\n",
              "      const charts = await google.colab.kernel.invokeFunction(\n",
              "          'suggestCharts', [key], {});\n",
              "    }\n",
              "    (() => {\n",
              "      let quickchartButtonEl =\n",
              "        document.querySelector('#df-8bf8d35e-7388-40c5-8497-5beddadbc80c button');\n",
              "      quickchartButtonEl.style.display =\n",
              "        google.colab.kernel.accessAllowed ? 'block' : 'none';\n",
              "    })();\n",
              "  </script>\n",
              "</div>\n",
              "    </div>\n",
              "  </div>\n"
            ]
          },
          "metadata": {},
          "execution_count": 25
        }
      ]
    },
    {
      "cell_type": "code",
      "source": [
        "finaldf.to_csv('Q1_중꺾마_최종제출파일.csv', index=False)"
      ],
      "metadata": {
        "id": "yioDH3yrtYs3"
      },
      "execution_count": 26,
      "outputs": []
    }
  ]
}
