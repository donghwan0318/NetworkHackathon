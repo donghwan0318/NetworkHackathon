{
  "nbformat": 4,
  "nbformat_minor": 0,
  "metadata": {
    "colab": {
      "provenance": []
    },
    "kernelspec": {
      "name": "python3",
      "display_name": "Python 3"
    },
    "language_info": {
      "name": "python"
    }
  },
  "cells": [
    {
      "cell_type": "code",
      "source": [
        "! pip install joblib"
      ],
      "metadata": {
        "id": "XSJ-kDIdrxHh"
      },
      "execution_count": null,
      "outputs": []
    },
    {
      "cell_type": "code",
      "source": [
        "! pip install pandas"
      ],
      "metadata": {
        "id": "9zDw1w4Cr3Oq"
      },
      "execution_count": null,
      "outputs": []
    },
    {
      "cell_type": "code",
      "source": [
        "! pip install numpy"
      ],
      "metadata": {
        "id": "YTRsTn5gr4V3"
      },
      "execution_count": null,
      "outputs": []
    },
    {
      "cell_type": "code",
      "source": [
        "! pip install sklearn"
      ],
      "metadata": {
        "id": "oG18x9iLrqio"
      },
      "execution_count": null,
      "outputs": []
    },
    {
      "cell_type": "code",
      "source": [
        "! pip install lightgbm"
      ],
      "metadata": {
        "id": "UUIyPo1froTN"
      },
      "execution_count": null,
      "outputs": []
    },
    {
      "cell_type": "code",
      "execution_count": 1,
      "metadata": {
        "id": "GWHwGCxgjvRp"
      },
      "outputs": [],
      "source": [
        "import pandas as pd\n",
        "import numpy as np\n",
        "import joblib as jl"
      ]
    },
    {
      "cell_type": "code",
      "source": [
        "#드라이브 미 사용시 코드 블록 제거\n",
        "from google.colab import drive\n",
        "drive.mount('/content/drive')"
      ],
      "metadata": {
        "colab": {
          "base_uri": "https://localhost:8080/"
        },
        "id": "wEcBObgFkPnz",
        "outputId": "51ba100d-47b5-4f84-8328-26f1e160f0f7"
      },
      "execution_count": 2,
      "outputs": [
        {
          "output_type": "stream",
          "name": "stdout",
          "text": [
            "Drive already mounted at /content/drive; to attempt to forcibly remount, call drive.mount(\"/content/drive\", force_remount=True).\n"
          ]
        }
      ]
    },
    {
      "cell_type": "code",
      "source": [
        "#파일경로\n",
        "%cd /content/drive/MyDrive/통신망해커톤/Q1_data"
      ],
      "metadata": {
        "colab": {
          "base_uri": "https://localhost:8080/"
        },
        "id": "gm6inLPAkOTF",
        "outputId": "f2d7c55a-e3b6-49a8-af38-eb8c7ed78862"
      },
      "execution_count": 3,
      "outputs": [
        {
          "output_type": "stream",
          "name": "stdout",
          "text": [
            "/content/drive/MyDrive/통신망해커톤/Q1_data\n"
          ]
        }
      ]
    },
    {
      "cell_type": "markdown",
      "source": [
        "데이터 불러오기"
      ],
      "metadata": {
        "id": "k7ermX6unXWi"
      }
    },
    {
      "cell_type": "code",
      "source": [
        "train = pd.read_csv('Q1_tr_최종전처리.csv')\n",
        "test = pd.read_csv('Q1_te_최종전처리.csv')"
      ],
      "metadata": {
        "id": "DfbZ2m5lkS11"
      },
      "execution_count": 4,
      "outputs": []
    },
    {
      "cell_type": "code",
      "source": [
        "#0~12 클래스만 남기기\n",
        "idx = train[train['uenomax']>12].index\n",
        "train.drop(idx, axis=0, inplace=True)"
      ],
      "metadata": {
        "id": "vXHEthb7kc8Z"
      },
      "execution_count": 5,
      "outputs": []
    },
    {
      "cell_type": "code",
      "source": [
        "X = train.drop(['uenomax', 'ru_id'], axis=1)\n",
        "y = train['uenomax']"
      ],
      "metadata": {
        "id": "94O3WWV4kgH2"
      },
      "execution_count": 6,
      "outputs": []
    },
    {
      "cell_type": "code",
      "source": [
        "test = test.drop(['ru_id'], axis=1)"
      ],
      "metadata": {
        "id": "XZU9Y6PFkh--"
      },
      "execution_count": 7,
      "outputs": []
    },
    {
      "cell_type": "code",
      "source": [
        "#스케일링\n",
        "from sklearn.preprocessing import MinMaxScaler\n",
        "\n",
        "scaler_ = MinMaxScaler()\n",
        "scaler_.fit(X)\n",
        "X = scaler_.transform(X)\n",
        "test = scaler_.transform(test)"
      ],
      "metadata": {
        "id": "A9zebOk0kk_x"
      },
      "execution_count": 8,
      "outputs": []
    },
    {
      "cell_type": "markdown",
      "source": [
        "모델링"
      ],
      "metadata": {
        "id": "9gmgW89BnZbF"
      }
    },
    {
      "cell_type": "code",
      "source": [
        "import lightgbm as lgb\n",
        "from sklearn.metrics import accuracy_score, mean_absolute_error\n",
        "from sklearn.model_selection import train_test_split"
      ],
      "metadata": {
        "id": "I9iWiIlxkuNv"
      },
      "execution_count": 9,
      "outputs": []
    },
    {
      "cell_type": "code",
      "source": [
        "X_train, X_valid, y_train, y_valid = train_test_split(X, y.astype(str), test_size=0.25, random_state=42)"
      ],
      "metadata": {
        "id": "K1rrPaD1kvTG"
      },
      "execution_count": 10,
      "outputs": []
    },
    {
      "cell_type": "code",
      "source": [
        "#제출 mae : 0.4089\n",
        "params1 = {'boosting_type': 'gbdt',\n",
        " 'class_weight': None,\n",
        " 'importance_type': 'split',\n",
        " 'learning_rate': 0.05,\n",
        " 'max_depth': 51,\n",
        " 'min_child_samples': 1895,\n",
        " 'n_jobs': -1,\n",
        " 'num_leaves': 255,\n",
        " 'random_state': 42,\n",
        " 'num_iterations': 300,\n",
        " 'lambda_l1': 2.0661548794007105,\n",
        " 'lambda_l2': 15.271446076005327,\n",
        " 'bagging_fraction': 0.7378027882924606,\n",
        " 'force_col_wise': True,\n",
        " 'verbosity': -1}"
      ],
      "metadata": {
        "id": "53GBb3rDk5G6"
      },
      "execution_count": 11,
      "outputs": []
    },
    {
      "cell_type": "code",
      "source": [
        "#제출 mae : 0.4087\n",
        "params2 = {'boosting_type': 'gbdt',\n",
        " 'class_weight': None,\n",
        " 'importance_type': 'split',\n",
        " 'learning_rate': 0.05,\n",
        " 'max_depth': 36,\n",
        " 'min_child_samples': 1328,\n",
        " 'n_jobs': -1,\n",
        " 'num_leaves': 255,\n",
        " 'random_state': 42,\n",
        " 'num_iterations': 307,\n",
        " 'lambda_l1': 4.456663984787511,\n",
        " 'lambda_l2': 33.27930996684767,\n",
        " 'bagging_fraction': 0.6831836795788736,\n",
        " 'force_col_wise': True,\n",
        " 'verbosity': -1}"
      ],
      "metadata": {
        "id": "Ey0FcnKLkvtW"
      },
      "execution_count": 12,
      "outputs": []
    },
    {
      "cell_type": "code",
      "source": [
        "#제출 mae : 0.4094\n",
        "params3 = {'boosting_type': 'gbdt',\n",
        " 'class_weight': None,\n",
        " 'importance_type': 'split',\n",
        " 'learning_rate': 0.05,\n",
        " 'max_depth': 200,\n",
        " 'min_child_samples': 804,\n",
        " 'n_jobs': -1,\n",
        " 'num_leaves': 160,\n",
        " 'random_state': 42,\n",
        " 'num_iterations': 378,\n",
        " 'lambda_l1': 22.06563390906093,\n",
        " 'lambda_l2': 75.31442865290605,\n",
        " 'bagging_fraction': 0.7164344841521968,\n",
        " 'force_col_wise': True,\n",
        " 'verbosity': -1}"
      ],
      "metadata": {
        "id": "oenBCFKBlN-p"
      },
      "execution_count": 13,
      "outputs": []
    },
    {
      "cell_type": "markdown",
      "source": [
        "모델 1"
      ],
      "metadata": {
        "id": "vsClftvooJuW"
      }
    },
    {
      "cell_type": "code",
      "source": [
        "model1 = lgb.LGBMClassifier(**params1)\n",
        "model1.fit(X_train, y_train, eval_set=[(X_valid, y_valid)])\n",
        "\n",
        "y_pred = model1.predict(X_valid)\n",
        "acc = accuracy_score(y_valid, y_pred)\n",
        "mae = mean_absolute_error(y_valid.astype(int), y_pred.astype(int))\n",
        "\n",
        "print('acc:', acc)\n",
        "print('mae:', mae)"
      ],
      "metadata": {
        "id": "GrzRJ8_3nDa3"
      },
      "execution_count": null,
      "outputs": []
    },
    {
      "cell_type": "markdown",
      "source": [
        "모델 2"
      ],
      "metadata": {
        "id": "wqJ_g1vZoLHj"
      }
    },
    {
      "cell_type": "code",
      "source": [
        "model2 = lgb.LGBMClassifier(**params2)\n",
        "model2.fit(X_train, y_train, eval_set=[(X_valid, y_valid)])\n",
        "\n",
        "y_pred = model2.predict(X_valid)\n",
        "acc = accuracy_score(y_valid, y_pred)\n",
        "mae = mean_absolute_error(y_valid.astype(int), y_pred.astype(int))\n",
        "\n",
        "print('acc:', acc)\n",
        "print('mae:', mae)"
      ],
      "metadata": {
        "id": "irj_ObdTnPkm"
      },
      "execution_count": null,
      "outputs": []
    },
    {
      "cell_type": "markdown",
      "source": [
        "모델 3"
      ],
      "metadata": {
        "id": "M9shO011oOOm"
      }
    },
    {
      "cell_type": "code",
      "source": [
        "model3 = lgb.LGBMClassifier(**params3)\n",
        "model3.fit(X_train, y_train, eval_set=[(X_valid, y_valid)])\n",
        "\n",
        "y_pred = model3.predict(X_valid)\n",
        "acc = accuracy_score(y_valid, y_pred)\n",
        "mae = mean_absolute_error(y_valid.astype(int), y_pred.astype(int))\n",
        "\n",
        "print('acc:', acc)\n",
        "print('mae:', mae)"
      ],
      "metadata": {
        "id": "g0_2BaffnS6B"
      },
      "execution_count": null,
      "outputs": []
    }
  ]
}
