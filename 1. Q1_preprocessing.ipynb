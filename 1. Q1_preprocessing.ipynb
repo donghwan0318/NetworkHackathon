{
  "cells": [
    {
      "cell_type": "code",
      "execution_count": 2,
      "metadata": {
        "id": "tODOJV0VZigv"
      },
      "outputs": [],
      "source": [
        "# 라이브러리 import\n",
        "import pandas as pd\n",
        "import numpy as np\n",
        "import matplotlib.pyplot as plt\n",
        "import seaborn as sns"
      ]
    },
    {
      "cell_type": "code",
      "execution_count": 3,
      "metadata": {
        "colab": {
          "base_uri": "https://localhost:8080/"
        },
        "id": "M9O5zrDzZKOo",
        "outputId": "df65929d-417d-417e-83ff-5ba5a551ed6a"
      },
      "outputs": [
        {
          "name": "stdout",
          "output_type": "stream",
          "text": [
            "Mounted at /content/drive\n"
          ]
        }
      ],
      "source": [
        "# 드라이브 마운트\n",
        "from google.colab import drive\n",
        "drive.mount('/content/drive')"
      ]
    },
    {
      "cell_type": "code",
      "execution_count": null,
      "metadata": {},
      "outputs": [],
      "source": [
        "os.chdir('/content/drive/MyDrive/통신망해커톤/Q1_data')\n",
        "os.getcwd()"
      ]
    },
    {
      "cell_type": "code",
      "execution_count": 7,
      "metadata": {
        "id": "HRYwtexJZULn"
      },
      "outputs": [],
      "source": [
        "# 데이터 불러오기\n",
        "# 경로 바꿔서 사용할 것\n",
        "train = pd.read_csv('Q1_train.csv')\n",
        "test = pd.read_csv('Q1_test.csv')"
      ]
    },
    {
      "cell_type": "code",
      "execution_count": 8,
      "metadata": {
        "colab": {
          "base_uri": "https://localhost:8080/",
          "height": 165
        },
        "id": "51CDL_i4aL6X",
        "outputId": "c43a4f71-92c8-4814-efad-4602d3b91a28"
      },
      "outputs": [
        {
          "data": {
            "text/html": [
              "\n",
              "  <div id=\"df-bbbb0df1-8509-43ae-9370-3e1fba01c58d\" class=\"colab-df-container\">\n",
              "    <div>\n",
              "<style scoped>\n",
              "    .dataframe tbody tr th:only-of-type {\n",
              "        vertical-align: middle;\n",
              "    }\n",
              "\n",
              "    .dataframe tbody tr th {\n",
              "        vertical-align: top;\n",
              "    }\n",
              "\n",
              "    .dataframe thead th {\n",
              "        text-align: right;\n",
              "    }\n",
              "</style>\n",
              "<table border=\"1\" class=\"dataframe\">\n",
              "  <thead>\n",
              "    <tr style=\"text-align: right;\">\n",
              "      <th></th>\n",
              "      <th>datetime</th>\n",
              "      <th>ru_id</th>\n",
              "      <th>scgfail</th>\n",
              "      <th>scgfailratio</th>\n",
              "      <th>erabaddatt</th>\n",
              "      <th>erabaddsucc</th>\n",
              "      <th>endcaddatt</th>\n",
              "      <th>endcaddsucc</th>\n",
              "      <th>endcmodbymenbatt</th>\n",
              "      <th>endcmodbymenbsucc</th>\n",
              "      <th>...</th>\n",
              "      <th>airmacdlbyte</th>\n",
              "      <th>bler_ul</th>\n",
              "      <th>bler_dl</th>\n",
              "      <th>rachpreamblea</th>\n",
              "      <th>numrar</th>\n",
              "      <th>nummsg3</th>\n",
              "      <th>attpaging</th>\n",
              "      <th>rssipathavg</th>\n",
              "      <th>dlreceivedcqiavg</th>\n",
              "      <th>endcrelbymenb</th>\n",
              "    </tr>\n",
              "  </thead>\n",
              "  <tbody>\n",
              "    <tr>\n",
              "      <th>0</th>\n",
              "      <td>2023-05-19 00:00:00</td>\n",
              "      <td>BaseStationJ</td>\n",
              "      <td>0</td>\n",
              "      <td>0.0</td>\n",
              "      <td>5</td>\n",
              "      <td>5</td>\n",
              "      <td>5</td>\n",
              "      <td>5</td>\n",
              "      <td>0</td>\n",
              "      <td>0</td>\n",
              "      <td>...</td>\n",
              "      <td>412.0</td>\n",
              "      <td>13.3</td>\n",
              "      <td>22.4</td>\n",
              "      <td>73.0</td>\n",
              "      <td>73.0</td>\n",
              "      <td>7.0</td>\n",
              "      <td>1401.0</td>\n",
              "      <td>-93.0</td>\n",
              "      <td>9.8</td>\n",
              "      <td>0</td>\n",
              "    </tr>\n",
              "  </tbody>\n",
              "</table>\n",
              "<p>1 rows × 38 columns</p>\n",
              "</div>\n",
              "    <div class=\"colab-df-buttons\">\n",
              "\n",
              "  <div class=\"colab-df-container\">\n",
              "    <button class=\"colab-df-convert\" onclick=\"convertToInteractive('df-bbbb0df1-8509-43ae-9370-3e1fba01c58d')\"\n",
              "            title=\"Convert this dataframe to an interactive table.\"\n",
              "            style=\"display:none;\">\n",
              "\n",
              "  <svg xmlns=\"http://www.w3.org/2000/svg\" height=\"24px\" viewBox=\"0 -960 960 960\">\n",
              "    <path d=\"M120-120v-720h720v720H120Zm60-500h600v-160H180v160Zm220 220h160v-160H400v160Zm0 220h160v-160H400v160ZM180-400h160v-160H180v160Zm440 0h160v-160H620v160ZM180-180h160v-160H180v160Zm440 0h160v-160H620v160Z\"/>\n",
              "  </svg>\n",
              "    </button>\n",
              "\n",
              "  <style>\n",
              "    .colab-df-container {\n",
              "      display:flex;\n",
              "      gap: 12px;\n",
              "    }\n",
              "\n",
              "    .colab-df-convert {\n",
              "      background-color: #E8F0FE;\n",
              "      border: none;\n",
              "      border-radius: 50%;\n",
              "      cursor: pointer;\n",
              "      display: none;\n",
              "      fill: #1967D2;\n",
              "      height: 32px;\n",
              "      padding: 0 0 0 0;\n",
              "      width: 32px;\n",
              "    }\n",
              "\n",
              "    .colab-df-convert:hover {\n",
              "      background-color: #E2EBFA;\n",
              "      box-shadow: 0px 1px 2px rgba(60, 64, 67, 0.3), 0px 1px 3px 1px rgba(60, 64, 67, 0.15);\n",
              "      fill: #174EA6;\n",
              "    }\n",
              "\n",
              "    .colab-df-buttons div {\n",
              "      margin-bottom: 4px;\n",
              "    }\n",
              "\n",
              "    [theme=dark] .colab-df-convert {\n",
              "      background-color: #3B4455;\n",
              "      fill: #D2E3FC;\n",
              "    }\n",
              "\n",
              "    [theme=dark] .colab-df-convert:hover {\n",
              "      background-color: #434B5C;\n",
              "      box-shadow: 0px 1px 3px 1px rgba(0, 0, 0, 0.15);\n",
              "      filter: drop-shadow(0px 1px 2px rgba(0, 0, 0, 0.3));\n",
              "      fill: #FFFFFF;\n",
              "    }\n",
              "  </style>\n",
              "\n",
              "    <script>\n",
              "      const buttonEl =\n",
              "        document.querySelector('#df-bbbb0df1-8509-43ae-9370-3e1fba01c58d button.colab-df-convert');\n",
              "      buttonEl.style.display =\n",
              "        google.colab.kernel.accessAllowed ? 'block' : 'none';\n",
              "\n",
              "      async function convertToInteractive(key) {\n",
              "        const element = document.querySelector('#df-bbbb0df1-8509-43ae-9370-3e1fba01c58d');\n",
              "        const dataTable =\n",
              "          await google.colab.kernel.invokeFunction('convertToInteractive',\n",
              "                                                    [key], {});\n",
              "        if (!dataTable) return;\n",
              "\n",
              "        const docLinkHtml = 'Like what you see? Visit the ' +\n",
              "          '<a target=\"_blank\" href=https://colab.research.google.com/notebooks/data_table.ipynb>data table notebook</a>'\n",
              "          + ' to learn more about interactive tables.';\n",
              "        element.innerHTML = '';\n",
              "        dataTable['output_type'] = 'display_data';\n",
              "        await google.colab.output.renderOutput(dataTable, element);\n",
              "        const docLink = document.createElement('div');\n",
              "        docLink.innerHTML = docLinkHtml;\n",
              "        element.appendChild(docLink);\n",
              "      }\n",
              "    </script>\n",
              "  </div>\n",
              "\n",
              "\n",
              "<div id=\"df-6f1d7a8a-ab58-48af-9df3-b50a8d546464\">\n",
              "  <button class=\"colab-df-quickchart\" onclick=\"quickchart('df-6f1d7a8a-ab58-48af-9df3-b50a8d546464')\"\n",
              "            title=\"Suggest charts.\"\n",
              "            style=\"display:none;\">\n",
              "\n",
              "<svg xmlns=\"http://www.w3.org/2000/svg\" height=\"24px\"viewBox=\"0 0 24 24\"\n",
              "     width=\"24px\">\n",
              "    <g>\n",
              "        <path d=\"M19 3H5c-1.1 0-2 .9-2 2v14c0 1.1.9 2 2 2h14c1.1 0 2-.9 2-2V5c0-1.1-.9-2-2-2zM9 17H7v-7h2v7zm4 0h-2V7h2v10zm4 0h-2v-4h2v4z\"/>\n",
              "    </g>\n",
              "</svg>\n",
              "  </button>\n",
              "\n",
              "<style>\n",
              "  .colab-df-quickchart {\n",
              "    background-color: #E8F0FE;\n",
              "    border: none;\n",
              "    border-radius: 50%;\n",
              "    cursor: pointer;\n",
              "    display: none;\n",
              "    fill: #1967D2;\n",
              "    height: 32px;\n",
              "    padding: 0 0 0 0;\n",
              "    width: 32px;\n",
              "  }\n",
              "\n",
              "  .colab-df-quickchart:hover {\n",
              "    background-color: #E2EBFA;\n",
              "    box-shadow: 0px 1px 2px rgba(60, 64, 67, 0.3), 0px 1px 3px 1px rgba(60, 64, 67, 0.15);\n",
              "    fill: #174EA6;\n",
              "  }\n",
              "\n",
              "  [theme=dark] .colab-df-quickchart {\n",
              "    background-color: #3B4455;\n",
              "    fill: #D2E3FC;\n",
              "  }\n",
              "\n",
              "  [theme=dark] .colab-df-quickchart:hover {\n",
              "    background-color: #434B5C;\n",
              "    box-shadow: 0px 1px 3px 1px rgba(0, 0, 0, 0.15);\n",
              "    filter: drop-shadow(0px 1px 2px rgba(0, 0, 0, 0.3));\n",
              "    fill: #FFFFFF;\n",
              "  }\n",
              "</style>\n",
              "\n",
              "  <script>\n",
              "    async function quickchart(key) {\n",
              "      const charts = await google.colab.kernel.invokeFunction(\n",
              "          'suggestCharts', [key], {});\n",
              "    }\n",
              "    (() => {\n",
              "      let quickchartButtonEl =\n",
              "        document.querySelector('#df-6f1d7a8a-ab58-48af-9df3-b50a8d546464 button');\n",
              "      quickchartButtonEl.style.display =\n",
              "        google.colab.kernel.accessAllowed ? 'block' : 'none';\n",
              "    })();\n",
              "  </script>\n",
              "</div>\n",
              "    </div>\n",
              "  </div>\n"
            ],
            "text/plain": [
              "              datetime         ru_id  scgfail  scgfailratio  erabaddatt  \\\n",
              "0  2023-05-19 00:00:00  BaseStationJ        0           0.0           5   \n",
              "\n",
              "   erabaddsucc  endcaddatt  endcaddsucc  endcmodbymenbatt  endcmodbymenbsucc  \\\n",
              "0            5           5            5                 0                  0   \n",
              "\n",
              "   ...  airmacdlbyte  bler_ul  bler_dl  rachpreamblea  numrar  nummsg3  \\\n",
              "0  ...         412.0     13.3     22.4           73.0    73.0      7.0   \n",
              "\n",
              "   attpaging  rssipathavg  dlreceivedcqiavg  endcrelbymenb  \n",
              "0     1401.0        -93.0               9.8              0  \n",
              "\n",
              "[1 rows x 38 columns]"
            ]
          },
          "execution_count": 8,
          "metadata": {},
          "output_type": "execute_result"
        }
      ],
      "source": [
        "test.drop('Unnamed: 0', axis=1, inplace=True)\n",
        "test.head(1)"
      ]
    },
    {
      "cell_type": "markdown",
      "metadata": {
        "id": "vo_eOH4cAtTV"
      },
      "source": [
        "#전처리"
      ]
    },
    {
      "cell_type": "code",
      "execution_count": 9,
      "metadata": {
        "colab": {
          "base_uri": "https://localhost:8080/"
        },
        "id": "Z2DzFuihXe-D",
        "outputId": "25eb2214-41d4-4efa-ed5a-60557bfc74cc"
      },
      "outputs": [
        {
          "data": {
            "text/plain": [
              "datetime                              0\n",
              "ru_id                                 0\n",
              "scgfail                               0\n",
              "scgfailratio                          0\n",
              "erabaddatt                            0\n",
              "erabaddsucc                           0\n",
              "endcaddatt                            0\n",
              "endcaddsucc                           0\n",
              "endcmodbymenbatt                      0\n",
              "endcmodbymenbsucc                     0\n",
              "endcmodbysgnbatt                      0\n",
              "endcmodbysgnbsucc                     0\n",
              "connestabatt                          0\n",
              "connestabsucc                         0\n",
              "redirectiontolte_coverageout          0\n",
              "redirectiontolte_epsfallback          0\n",
              "redirectiontolte_emergencyfallback    0\n",
              "handoveratt                           0\n",
              "handoversucc                          0\n",
              "reestabatt                            0\n",
              "reestabsucc                           0\n",
              "rlculbyte                             9\n",
              "rlcdlbyte                             9\n",
              "totprbulavg                           9\n",
              "totprbdlavg                           9\n",
              "dlreceivedriavg                       9\n",
              "dltransmittedmcsavg                   9\n",
              "airmaculbyte                          9\n",
              "airmacdlbyte                          9\n",
              "bler_ul                               9\n",
              "bler_dl                               9\n",
              "rachpreamblea                         9\n",
              "numrar                                9\n",
              "nummsg3                               9\n",
              "attpaging                             9\n",
              "rssipathavg                           9\n",
              "dlreceivedcqiavg                      9\n",
              "endcrelbymenb                         0\n",
              "uenomax                               0\n",
              "dtype: int64"
            ]
          },
          "execution_count": 9,
          "metadata": {},
          "output_type": "execute_result"
        }
      ],
      "source": [
        "train.isna().sum()\n",
        "# 결측치 9개 전체 데이터대비 매우 적어서 드랍하기로 결정"
      ]
    },
    {
      "cell_type": "code",
      "execution_count": 10,
      "metadata": {
        "colab": {
          "base_uri": "https://localhost:8080/"
        },
        "id": "Anj6Px6vb88w",
        "outputId": "a16134ac-27b7-462b-eb36-b2fc9f7680b7"
      },
      "outputs": [
        {
          "data": {
            "text/plain": [
              "137436"
            ]
          },
          "execution_count": 10,
          "metadata": {},
          "output_type": "execute_result"
        }
      ],
      "source": [
        "train.dropna(inplace=True)\n",
        "train.reset_index(drop=True, inplace=True)\n",
        "len(train)"
      ]
    },
    {
      "cell_type": "code",
      "execution_count": 11,
      "metadata": {
        "id": "NIAwq8li4_lD"
      },
      "outputs": [],
      "source": [
        "# scgtry 변수 생성\n",
        "train['scgtry'] = 1/(train['scgfailratio']/100/train['scgfail'])\n",
        "train['scgtry'].fillna(0,inplace=True)\n",
        "test['scgtry'] = 1/(test['scgfailratio']/100/test['scgfail'])\n",
        "test['scgtry'].fillna(0,inplace=True)\n",
        "train.loc[train['scgtry']==float(\"inf\"), 'scgtry'] = 0\n",
        "test.loc[test['scgtry']==float(\"inf\"), 'scgtry'] = 0"
      ]
    },
    {
      "cell_type": "code",
      "execution_count": 15,
      "metadata": {
        "colab": {
          "base_uri": "https://localhost:8080/"
        },
        "id": "Oj9pbfmJ62Jg",
        "outputId": "4daa575b-fe71-4049-8029-058037939107"
      },
      "outputs": [
        {
          "data": {
            "text/plain": [
              "count    137436.000000\n",
              "mean          8.214608\n",
              "std          21.854702\n",
              "min           0.000000\n",
              "25%           0.000000\n",
              "50%           0.000000\n",
              "75%           3.003003\n",
              "max         833.333333\n",
              "Name: scgtry, dtype: float64"
            ]
          },
          "execution_count": 15,
          "metadata": {},
          "output_type": "execute_result"
        }
      ],
      "source": [
        "# 기초 통계량\n",
        "train['scgtry'].describe()"
      ]
    },
    {
      "cell_type": "markdown",
      "metadata": {
        "id": "IFl7RMStdcAm"
      },
      "source": [
        "## 파생변수"
      ]
    },
    {
      "cell_type": "code",
      "execution_count": 13,
      "metadata": {
        "id": "wIh2sKaiddxF"
      },
      "outputs": [],
      "source": [
        "# ratio 파생변수 생성\n",
        "train['erabadd_r'] = train['erabaddsucc'] / train['erabaddatt']\n",
        "train['endcadd_r'] = train['endcaddsucc'] / train['endcaddatt']\n",
        "train['endcmodbymenb_r'] = train['endcmodbymenbsucc'] / train['endcmodbymenbatt']\n",
        "train['endcmodbysgnb_r'] = train['endcmodbysgnbsucc'] / train['endcmodbysgnbatt']\n",
        "train['connestab_r'] = train['connestabsucc'] / train['connestabatt']\n",
        "train['handover_r'] = train['handoversucc'] / train['handoveratt']\n",
        "train['reestab_r'] = train['reestabsucc'] / train['reestabatt']\n",
        "\n",
        "test['erabadd_r'] = test['erabaddsucc'] / test['erabaddatt']\n",
        "test['endcadd_r'] = test['endcaddsucc'] / test['endcaddatt']\n",
        "test['endcmodbymenb_r'] = test['endcmodbymenbsucc'] / test['endcmodbymenbatt']\n",
        "test['endcmodbysgnb_r'] = test['endcmodbysgnbsucc'] / test['endcmodbysgnbatt']\n",
        "test['connestab_r'] = test['connestabsucc'] / test['connestabatt']\n",
        "test['handover_r'] = test['handoversucc'] / test['handoveratt']\n",
        "test['reestab_r'] = test['reestabsucc'] / test['reestabatt']"
      ]
    },
    {
      "cell_type": "code",
      "execution_count": 16,
      "metadata": {
        "id": "7evQX_ibrAcD"
      },
      "outputs": [],
      "source": [
        "train.fillna(0, inplace=True)\n",
        "test.fillna(0, inplace=True)"
      ]
    },
    {
      "cell_type": "code",
      "execution_count": 17,
      "metadata": {
        "id": "Asog3EbShKQ7"
      },
      "outputs": [],
      "source": [
        "# station 별로 분리 하기 위해 새로운 데이터 파일 불러오기\n",
        "raw = pd.read_csv('/content/drive/MyDrive/통신망해커톤/Q1_data/Q1_train.csv')\n",
        "raw.dropna(inplace=True)\n",
        "raw.reset_index(drop=True, inplace=True)"
      ]
    },
    {
      "cell_type": "code",
      "execution_count": 19,
      "metadata": {
        "id": "lZzlz0ilg9EY"
      },
      "outputs": [],
      "source": [
        "# station 별로 분리\n",
        "idx_i = list(raw.loc[raw['ru_id']=='BaseStationI'].index)\n",
        "idx_d = list(raw.loc[raw['ru_id']=='BaseStationD'].index)\n",
        "idx_c = list(raw.loc[raw['ru_id']=='BaseStationC'].index)\n",
        "idx_a = list(raw.loc[raw['ru_id']=='BaseStationA'].index)\n",
        "idx_h = list(raw.loc[raw['ru_id']=='BaseStationH'].index)\n",
        "idx_g = list(raw.loc[raw['ru_id']=='BaseStationG'].index)\n",
        "idx_e = list(raw.loc[raw['ru_id']=='BaseStationE'].index)\n",
        "idx_f = list(raw.loc[raw['ru_id']=='BaseStationF'].index)\n",
        "\n",
        "df_i = train.loc[idx_i]\n",
        "df_d = train.loc[idx_d]\n",
        "df_c = train.loc[idx_c]\n",
        "df_a = train.loc[idx_a]\n",
        "df_h = train.loc[idx_h]\n",
        "df_g = train.loc[idx_g]\n",
        "df_e = train.loc[idx_e]\n",
        "df_f = train.loc[idx_f]\n",
        "\n",
        "dflist = [df_i, df_d, df_c, df_a, df_h, df_g, df_e, df_f]"
      ]
    },
    {
      "cell_type": "code",
      "execution_count": 20,
      "metadata": {
        "id": "bK7ZHyaPhPmB"
      },
      "outputs": [],
      "source": [
        "# 1시점 차분 값\n",
        "for df in dflist:\n",
        "  df['rlculbyte_diff'] = df['rlculbyte'].diff()\n",
        "  df['rlcdlbyte_diff'] = df['rlcdlbyte'].diff()\n",
        "  df['totprbulavg_diff'] = df['totprbulavg'].diff()\n",
        "  df['totprbdlavg_diff'] = df['totprbdlavg'].diff()\n",
        "  df['dlreceivedriavg_diff'] = df['dlreceivedriavg'].diff()\n",
        "  df['dltransmittedmcsavg_diff'] = df['dltransmittedmcsavg'].diff()\n",
        "  df['airmaculbyte_diff'] = df['airmaculbyte'].diff()\n",
        "  df['airmacdlbyte_diff'] = df['airmacdlbyte'].diff()\n",
        "  df['attpaging_diff'] = df['attpaging'].diff()\n",
        "  df['rssipathavg_diff'] = df['rssipathavg'].diff()\n",
        "  df['endcrelbymenb_diff'] = df['endcrelbymenb'].diff()\n",
        "  df['nummsg3_diff'] = df['nummsg3'].diff()\n",
        "  df['dlreceivedcqiavg_diff'] = df['dlreceivedcqiavg'].diff()\n",
        "  df['rachpreamblea_diff'] = df['rachpreamblea'].diff()"
      ]
    },
    {
      "cell_type": "code",
      "execution_count": 21,
      "metadata": {
        "id": "vtBxdYoEkzPM"
      },
      "outputs": [],
      "source": [
        "dflist = [df_i, df_d, df_c, df_a, df_h, df_g, df_e, df_f]"
      ]
    },
    {
      "cell_type": "code",
      "execution_count": 23,
      "metadata": {
        "id": "t9IbywHQlkhN"
      },
      "outputs": [],
      "source": [
        "# 원본 데이터에 추가\n",
        "train['rlculbyte_diff'] = np.nan\n",
        "train['rlcdlbyte_diff'] = np.nan\n",
        "train['totprbulavg_diff'] = np.nan\n",
        "train['totprbdlavg_diff'] = np.nan\n",
        "train['dlreceivedriavg_diff'] = np.nan\n",
        "train['dltransmittedmcsavg_diff'] = np.nan\n",
        "train['airmaculbyte_diff'] = np.nan\n",
        "train['airmacdlbyte_diff'] = np.nan\n",
        "train['attpaging_diff'] = np.nan\n",
        "train['rssipathavg_diff'] = np.nan\n",
        "train['endcrelbymenb_diff'] = np.nan\n",
        "train['nummsg3_diff'] = np.nan\n",
        "train['dlreceivedcqiavg_diff'] = np.nan\n",
        "train['rachpreamblea_diff'] = np.nan"
      ]
    },
    {
      "cell_type": "code",
      "execution_count": 24,
      "metadata": {
        "colab": {
          "base_uri": "https://localhost:8080/"
        },
        "id": "jDo-yjZhohfB",
        "outputId": "59ac034c-233e-4b8b-e0ff-b0530eeab908"
      },
      "outputs": [
        {
          "data": {
            "text/plain": [
              "['rlculbyte_diff',\n",
              " 'rlcdlbyte_diff',\n",
              " 'totprbulavg_diff',\n",
              " 'totprbdlavg_diff',\n",
              " 'dlreceivedriavg_diff',\n",
              " 'dltransmittedmcsavg_diff',\n",
              " 'airmaculbyte_diff',\n",
              " 'airmacdlbyte_diff',\n",
              " 'attpaging_diff',\n",
              " 'rssipathavg_diff',\n",
              " 'endcrelbymenb_diff',\n",
              " 'nummsg3_diff',\n",
              " 'dlreceivedcqiavg_diff',\n",
              " 'rachpreamblea_diff']"
            ]
          },
          "execution_count": 24,
          "metadata": {},
          "output_type": "execute_result"
        }
      ],
      "source": [
        "cols = list(df.iloc[:,-14:].columns)\n",
        "cols"
      ]
    },
    {
      "cell_type": "code",
      "execution_count": 25,
      "metadata": {
        "id": "fNJr13xEk0QC"
      },
      "outputs": [],
      "source": [
        "for df in dflist:\n",
        "  train.loc[list(df.index), cols] = df.loc[list(df.index), cols].values"
      ]
    },
    {
      "cell_type": "code",
      "execution_count": 26,
      "metadata": {
        "colab": {
          "base_uri": "https://localhost:8080/"
        },
        "id": "k37fdkgpoy3r",
        "outputId": "700efb57-8707-4345-97e1-ddd54592a4a5"
      },
      "outputs": [
        {
          "data": {
            "text/plain": [
              "datetime                              0\n",
              "ru_id                                 0\n",
              "scgfail                               0\n",
              "scgfailratio                          0\n",
              "erabaddatt                            0\n",
              "erabaddsucc                           0\n",
              "endcaddatt                            0\n",
              "endcaddsucc                           0\n",
              "endcmodbymenbatt                      0\n",
              "endcmodbymenbsucc                     0\n",
              "endcmodbysgnbatt                      0\n",
              "endcmodbysgnbsucc                     0\n",
              "connestabatt                          0\n",
              "connestabsucc                         0\n",
              "redirectiontolte_coverageout          0\n",
              "redirectiontolte_epsfallback          0\n",
              "redirectiontolte_emergencyfallback    0\n",
              "handoveratt                           0\n",
              "handoversucc                          0\n",
              "reestabatt                            0\n",
              "reestabsucc                           0\n",
              "rlculbyte                             0\n",
              "rlcdlbyte                             0\n",
              "totprbulavg                           0\n",
              "totprbdlavg                           0\n",
              "dlreceivedriavg                       0\n",
              "dltransmittedmcsavg                   0\n",
              "airmaculbyte                          0\n",
              "airmacdlbyte                          0\n",
              "bler_ul                               0\n",
              "bler_dl                               0\n",
              "rachpreamblea                         0\n",
              "numrar                                0\n",
              "nummsg3                               0\n",
              "attpaging                             0\n",
              "rssipathavg                           0\n",
              "dlreceivedcqiavg                      0\n",
              "endcrelbymenb                         0\n",
              "uenomax                               0\n",
              "scgtry                                0\n",
              "erabadd_r                             0\n",
              "endcadd_r                             0\n",
              "endcmodbymenb_r                       0\n",
              "endcmodbysgnb_r                       0\n",
              "connestab_r                           0\n",
              "handover_r                            0\n",
              "reestab_r                             0\n",
              "rlculbyte_diff                        8\n",
              "rlcdlbyte_diff                        8\n",
              "totprbulavg_diff                      8\n",
              "totprbdlavg_diff                      8\n",
              "dlreceivedriavg_diff                  8\n",
              "dltransmittedmcsavg_diff              8\n",
              "airmaculbyte_diff                     8\n",
              "airmacdlbyte_diff                     8\n",
              "attpaging_diff                        8\n",
              "rssipathavg_diff                      8\n",
              "endcrelbymenb_diff                    8\n",
              "nummsg3_diff                          8\n",
              "dlreceivedcqiavg_diff                 8\n",
              "rachpreamblea_diff                    8\n",
              "dtype: int64"
            ]
          },
          "execution_count": 26,
          "metadata": {},
          "output_type": "execute_result"
        }
      ],
      "source": [
        "# 원본데이터에 잘 합쳐졌나 확인\n",
        "pd.set_option('display.max_rows', None)\n",
        "train.isnull().sum()"
      ]
    },
    {
      "cell_type": "code",
      "execution_count": 27,
      "metadata": {
        "colab": {
          "base_uri": "https://localhost:8080/"
        },
        "id": "eWXB4wI9pM0T",
        "outputId": "b8a995f2-39c8-4eb1-9c22-2dafe65d5a40"
      },
      "outputs": [
        {
          "data": {
            "text/plain": [
              "137428"
            ]
          },
          "execution_count": 27,
          "metadata": {},
          "output_type": "execute_result"
        }
      ],
      "source": [
        "train.dropna(inplace=True)\n",
        "train.reset_index(drop=True, inplace=True)\n",
        "len(train)"
      ]
    },
    {
      "cell_type": "code",
      "execution_count": 28,
      "metadata": {
        "id": "wDyVkpop5NXm"
      },
      "outputs": [],
      "source": [
        "#y변수를 가장 마지막으로 (열 순서 변경)\n",
        "y = train['uenomax']\n",
        "train.drop('uenomax', axis=1, inplace=True)\n",
        "train['uenomax'] = y"
      ]
    },
    {
      "cell_type": "code",
      "execution_count": 29,
      "metadata": {
        "id": "GWJBaCc8rY1R"
      },
      "outputs": [],
      "source": [
        "# test에 대해서도 동일하게 전처리\n",
        "raw = pd.read_csv('/content/drive/MyDrive/통신망해커톤/Q1_data/Q1_test.csv')\n",
        "raw.dropna(inplace=True)\n",
        "raw.reset_index(drop=True, inplace=True)"
      ]
    },
    {
      "cell_type": "code",
      "execution_count": 30,
      "metadata": {
        "id": "uQkFPTIgkHcp"
      },
      "outputs": [],
      "source": [
        "idx_b = list(raw.loc[raw['ru_id']=='BaseStationB'].index)\n",
        "idx_j = list(raw.loc[raw['ru_id']=='BaseStationJ'].index)\n",
        "\n",
        "df_b = test.loc[idx_b]\n",
        "df_j = test.loc[idx_j]\n",
        "\n",
        "dflist = [df_b, df_j]"
      ]
    },
    {
      "cell_type": "code",
      "execution_count": 31,
      "metadata": {
        "id": "1Uh3LdvFkZtn"
      },
      "outputs": [],
      "source": [
        "for df in dflist:\n",
        "  df['rlculbyte_diff'] = df['rlculbyte'].diff()\n",
        "  df['rlcdlbyte_diff'] = df['rlcdlbyte'].diff()\n",
        "  df['totprbulavg_diff'] = df['totprbulavg'].diff()\n",
        "  df['totprbdlavg_diff'] = df['totprbdlavg'].diff()\n",
        "  df['dlreceivedriavg_diff'] = df['dlreceivedriavg'].diff()\n",
        "  df['dltransmittedmcsavg_diff'] = df['dltransmittedmcsavg'].diff()\n",
        "  df['airmaculbyte_diff'] = df['airmaculbyte'].diff()\n",
        "  df['airmacdlbyte_diff'] = df['airmacdlbyte'].diff()\n",
        "  df['attpaging_diff'] = df['attpaging'].diff()\n",
        "  df['rssipathavg_diff'] = df['rssipathavg'].diff()\n",
        "  df['endcrelbymenb_diff'] = df['endcrelbymenb'].diff()\n",
        "  df['nummsg3_diff'] = df['nummsg3'].diff()\n",
        "  df['dlreceivedcqiavg_diff'] = df['dlreceivedcqiavg'].diff()\n",
        "  df['rachpreamblea_diff'] = df['rachpreamblea'].diff()"
      ]
    },
    {
      "cell_type": "code",
      "execution_count": 32,
      "metadata": {
        "colab": {
          "base_uri": "https://localhost:8080/"
        },
        "id": "6hpLLIjOroFM",
        "outputId": "6341ca9f-af25-4b2d-b0ae-5dbed3989ff9"
      },
      "outputs": [
        {
          "name": "stderr",
          "output_type": "stream",
          "text": [
            "<ipython-input-32-0afa24fc0bca>:1: FutureWarning: The default value of numeric_only in DataFrame.mean is deprecated. In a future version, it will default to False. In addition, specifying 'numeric_only=None' is deprecated. Select only valid columns or specify the value of numeric_only to silence this warning.\n",
            "  df_b.fillna(df_b.mean(), inplace=True)\n",
            "<ipython-input-32-0afa24fc0bca>:2: FutureWarning: The default value of numeric_only in DataFrame.mean is deprecated. In a future version, it will default to False. In addition, specifying 'numeric_only=None' is deprecated. Select only valid columns or specify the value of numeric_only to silence this warning.\n",
            "  df_j.fillna(df_j.mean(), inplace=True)\n"
          ]
        }
      ],
      "source": [
        "df_b.fillna(df_b.mean(), inplace=True)\n",
        "df_j.fillna(df_j.mean(), inplace=True)"
      ]
    },
    {
      "cell_type": "code",
      "execution_count": 33,
      "metadata": {
        "id": "pmXTAgMFo7sq"
      },
      "outputs": [],
      "source": [
        "dflist = [df_b, df_j]"
      ]
    },
    {
      "cell_type": "code",
      "execution_count": 34,
      "metadata": {
        "id": "wiu7L6X7o8Hg"
      },
      "outputs": [],
      "source": [
        "test['rlculbyte_diff'] = np.nan\n",
        "test['rlcdlbyte_diff'] = np.nan\n",
        "test['totprbulavg_diff'] = np.nan\n",
        "test['totprbdlavg_diff'] = np.nan\n",
        "test['dlreceivedriavg_diff'] = np.nan\n",
        "test['dltransmittedmcsavg_diff'] = np.nan\n",
        "test['airmaculbyte_diff'] = np.nan\n",
        "test['airmacdlbyte_diff'] = np.nan\n",
        "test['attpaging_diff'] = np.nan\n",
        "test['rssipathavg_diff'] = np.nan\n",
        "test['endcrelbymenb_diff'] = np.nan\n",
        "test['nummsg3_diff'] = np.nan\n",
        "test['dlreceivedcqiavg_diff'] = np.nan\n",
        "test['rachpreamblea_diff'] = np.nan"
      ]
    },
    {
      "cell_type": "code",
      "execution_count": 35,
      "metadata": {
        "id": "r4mqDmkZpJsp"
      },
      "outputs": [],
      "source": [
        "for df in dflist:\n",
        "  test.loc[list(df.index), cols] = df.loc[list(df.index), cols].values"
      ]
    },
    {
      "cell_type": "code",
      "execution_count": 36,
      "metadata": {
        "colab": {
          "base_uri": "https://localhost:8080/"
        },
        "id": "dlZCj20usC-E",
        "outputId": "b7b316b4-6464-4ecf-96d5-be5926f83e72"
      },
      "outputs": [
        {
          "data": {
            "text/plain": [
              "datetime                              0\n",
              "ru_id                                 0\n",
              "scgfail                               0\n",
              "scgfailratio                          0\n",
              "erabaddatt                            0\n",
              "erabaddsucc                           0\n",
              "endcaddatt                            0\n",
              "endcaddsucc                           0\n",
              "endcmodbymenbatt                      0\n",
              "endcmodbymenbsucc                     0\n",
              "endcmodbysgnbatt                      0\n",
              "endcmodbysgnbsucc                     0\n",
              "connestabatt                          0\n",
              "connestabsucc                         0\n",
              "redirectiontolte_coverageout          0\n",
              "redirectiontolte_epsfallback          0\n",
              "redirectiontolte_emergencyfallback    0\n",
              "handoveratt                           0\n",
              "handoversucc                          0\n",
              "reestabatt                            0\n",
              "reestabsucc                           0\n",
              "rlculbyte                             0\n",
              "rlcdlbyte                             0\n",
              "totprbulavg                           0\n",
              "totprbdlavg                           0\n",
              "dlreceivedriavg                       0\n",
              "dltransmittedmcsavg                   0\n",
              "airmaculbyte                          0\n",
              "airmacdlbyte                          0\n",
              "bler_ul                               0\n",
              "bler_dl                               0\n",
              "rachpreamblea                         0\n",
              "numrar                                0\n",
              "nummsg3                               0\n",
              "attpaging                             0\n",
              "rssipathavg                           0\n",
              "dlreceivedcqiavg                      0\n",
              "endcrelbymenb                         0\n",
              "scgtry                                0\n",
              "erabadd_r                             0\n",
              "endcadd_r                             0\n",
              "endcmodbymenb_r                       0\n",
              "endcmodbysgnb_r                       0\n",
              "connestab_r                           0\n",
              "handover_r                            0\n",
              "reestab_r                             0\n",
              "rlculbyte_diff                        0\n",
              "rlcdlbyte_diff                        0\n",
              "totprbulavg_diff                      0\n",
              "totprbdlavg_diff                      0\n",
              "dlreceivedriavg_diff                  0\n",
              "dltransmittedmcsavg_diff              0\n",
              "airmaculbyte_diff                     0\n",
              "airmacdlbyte_diff                     0\n",
              "attpaging_diff                        0\n",
              "rssipathavg_diff                      0\n",
              "endcrelbymenb_diff                    0\n",
              "nummsg3_diff                          0\n",
              "dlreceivedcqiavg_diff                 0\n",
              "rachpreamblea_diff                    0\n",
              "dtype: int64"
            ]
          },
          "execution_count": 36,
          "metadata": {},
          "output_type": "execute_result"
        }
      ],
      "source": [
        "test.isnull().sum()"
      ]
    },
    {
      "cell_type": "markdown",
      "metadata": {
        "id": "NyG_8PEzAm68"
      },
      "source": [
        "##왜도 조정"
      ]
    },
    {
      "cell_type": "code",
      "execution_count": 37,
      "metadata": {
        "colab": {
          "base_uri": "https://localhost:8080/"
        },
        "id": "0BfjXveP7U8S",
        "outputId": "6ca67914-dbe7-47a1-d464-1da5ae0ae446"
      },
      "outputs": [
        {
          "name": "stdout",
          "output_type": "stream",
          "text": [
            "scgfail : 39.95070162915557\n",
            "scgfailratio : 8.743806184187866\n",
            "erabaddatt : 6.8765629532018275\n",
            "erabaddsucc : 6.878388415963638\n",
            "endcaddatt : 8.109116613906583\n",
            "endcaddsucc : 8.109682275794837\n",
            "endcmodbymenbatt : 12.128443620608161\n",
            "endcmodbymenbsucc : 12.133968909257673\n",
            "endcmodbysgnbatt : 7.915806812294115\n",
            "endcmodbysgnbsucc : 7.9577019202422985\n",
            "connestabatt : 9.510942974943191\n",
            "connestabsucc : 9.506677076318132\n",
            "redirectiontolte_coverageout : 7.918968643345804\n",
            "redirectiontolte_epsfallback : 6.747821810204825\n",
            "redirectiontolte_emergencyfallback : 185.3503438846847\n",
            "handoveratt : 2.9877801056549766\n",
            "handoversucc : 2.984256633404174\n",
            "reestabatt : 42.6182560965328\n",
            "reestabsucc : 45.44777521070747\n",
            "rlculbyte : 29.90212227058559\n",
            "rlcdlbyte : 34.97781321914227\n",
            "totprbulavg : 26.985944092590675\n",
            "totprbdlavg : 11.671348576266618\n",
            "dlreceivedriavg : -0.4221745655997072\n",
            "dltransmittedmcsavg : 0.4928600272832001\n",
            "airmaculbyte : 25.101807677728235\n",
            "airmacdlbyte : 30.787141131074108\n",
            "bler_ul : 10.694957300068879\n",
            "bler_dl : 8.049971412210224\n",
            "rachpreamblea : 6.346601184949034\n",
            "numrar : 6.346601184949034\n",
            "nummsg3 : 6.505304395362872\n",
            "attpaging : 0.2758986266218655\n",
            "rssipathavg : 28.331478415960333\n",
            "dlreceivedcqiavg : -2.0361396253792994\n",
            "endcrelbymenb : 10.654288789924774\n",
            "scgtry : 8.59836401074325\n",
            "erabadd_r : -5.87572178956026\n",
            "endcadd_r : -5.017458640729072\n",
            "endcmodbymenb_r : -0.7021822632186356\n",
            "endcmodbysgnb_r : -4.298587497691204\n",
            "connestab_r : -1.545672165811346\n",
            "handover_r : -0.03463826887719007\n",
            "reestab_r : 7.485473628790108\n",
            "rlculbyte_diff : 3.1804642428279912\n",
            "rlcdlbyte_diff : -4.133100824784496\n",
            "totprbulavg_diff : -0.49889169144060663\n",
            "totprbdlavg_diff : -1.496923675148464\n",
            "dlreceivedriavg_diff : 0.04207161797173558\n",
            "dltransmittedmcsavg_diff : -0.009618209254826164\n",
            "airmaculbyte_diff : 3.1560241149350374\n",
            "airmacdlbyte_diff : -2.4747356355914265\n",
            "attpaging_diff : 0.7841766149052698\n",
            "rssipathavg_diff : 0.5251035697372887\n",
            "endcrelbymenb_diff : 2.285132567781032\n",
            "nummsg3_diff : -0.7733422786716867\n",
            "dlreceivedcqiavg_diff : 0.036415342425333286\n",
            "rachpreamblea_diff : 4.4394299010799925\n",
            "uenomax : 4.019369706378668\n"
          ]
        }
      ],
      "source": [
        "# X변수 왜도 확인\n",
        "# 대체적으로 왜도가 매우높음\n",
        "for col in train.iloc[:, 2:].columns:\n",
        "  skewness = train[col].skew()\n",
        "  print(col, ':', skewness)"
      ]
    },
    {
      "cell_type": "code",
      "execution_count": 38,
      "metadata": {
        "id": "rZgoxuCS727V"
      },
      "outputs": [],
      "source": [
        "from sklearn.preprocessing import PowerTransformer\n",
        "\n",
        "#X변수만 왜도 조정\n",
        "for col in train.iloc[:, 2:-1].columns:\n",
        "  skewness = train[col].skew()\n",
        "  if abs(skewness) >= 2: #왜도의 절댓값이 2 이상이면 변환\n",
        "    pt = PowerTransformer()\n",
        "    pt.fit(train[[col]])\n",
        "    train[col] = pt.transform(train[[col]]) #디폴트로 여존슨변환\n",
        "    test[col] = pt.transform(test[[col]])"
      ]
    },
    {
      "cell_type": "code",
      "execution_count": 39,
      "metadata": {
        "colab": {
          "base_uri": "https://localhost:8080/"
        },
        "id": "bdpKJ6Ae_HH-",
        "outputId": "17cf2a81-f8d8-4ea2-9b8a-06a78b022a21"
      },
      "outputs": [
        {
          "name": "stdout",
          "output_type": "stream",
          "text": [
            "scgfail : 1.114337621551466\n",
            "scgfailratio : 1.1328575648055426\n",
            "erabaddatt : 0.020799351786181877\n",
            "erabaddsucc : 0.020804041735144607\n",
            "endcaddatt : 0.029399968185337542\n",
            "endcaddsucc : 0.029396609868653046\n",
            "endcmodbymenbatt : 0.09921666486425791\n",
            "endcmodbymenbsucc : 0.09944064453273016\n",
            "endcmodbysgnbatt : 0.00884369296191755\n",
            "endcmodbysgnbsucc : 0.009302526774277767\n",
            "connestabatt : 0.026415785404855202\n",
            "connestabsucc : 0.026576081866399533\n",
            "redirectiontolte_coverageout : 1.9476369015539894\n",
            "redirectiontolte_epsfallback : 3.127668240261311\n",
            "redirectiontolte_emergencyfallback : 185.35034388468492\n",
            "handoveratt : 0.3510113455744262\n",
            "handoversucc : 0.35160143355633294\n",
            "reestabatt : 7.247312094977947\n",
            "reestabsucc : 7.481654037620226\n",
            "rlculbyte : -0.03125691008447746\n",
            "rlcdlbyte : -0.19874225459538397\n",
            "totprbulavg : 0.38095416678384514\n",
            "totprbdlavg : -0.20756533654669232\n",
            "dlreceivedriavg : -0.4221745655997072\n",
            "dltransmittedmcsavg : 0.4928600272832001\n",
            "airmaculbyte : 0.013634649701374632\n",
            "airmacdlbyte : -0.15428616397056447\n",
            "bler_ul : 0.5408193530529933\n",
            "bler_dl : 0.03336125213526868\n",
            "rachpreamblea : 0.00572889521069379\n",
            "numrar : 0.00572889521069379\n",
            "nummsg3 : 0.025175228786834213\n",
            "attpaging : 0.2758986266218655\n",
            "rssipathavg : -0.04351670095775865\n",
            "dlreceivedcqiavg : -0.02124034210763142\n",
            "endcrelbymenb : 0.025938909797628584\n",
            "scgtry : 1.1282220200666684\n",
            "erabadd_r : -5.597184053237794\n",
            "endcadd_r : -4.942877136913216\n",
            "endcmodbymenb_r : -0.7021822632186356\n",
            "endcmodbysgnb_r : -2.5360428155964887\n",
            "connestab_r : -1.545672165811346\n",
            "handover_r : -0.03463826887719007\n",
            "reestab_r : 7.481654037620226\n",
            "rlculbyte_diff : 1.516654369239337\n",
            "rlcdlbyte_diff : -2.6390518161183105\n",
            "totprbulavg_diff : -0.49889169144060663\n",
            "totprbdlavg_diff : -1.496923675148464\n",
            "dlreceivedriavg_diff : 0.04207161797173558\n",
            "dltransmittedmcsavg_diff : -0.009618209254826164\n",
            "airmaculbyte_diff : 0.9385007992757909\n",
            "airmacdlbyte_diff : -2.0369388106283517\n",
            "attpaging_diff : 0.7841766149052698\n",
            "rssipathavg_diff : 0.5251035697372887\n",
            "endcrelbymenb_diff : 1.5648454143580457\n",
            "nummsg3_diff : -0.7733422786716867\n",
            "dlreceivedcqiavg_diff : 0.036415342425333286\n",
            "rachpreamblea_diff : 2.684280152803766\n",
            "uenomax : 4.019369706378668\n"
          ]
        }
      ],
      "source": [
        "# X변수 왜도 변환 확인\n",
        "for col in train.iloc[:, 2:].columns:\n",
        "  skewness = train[col].skew()\n",
        "  print(col, ':', skewness)"
      ]
    },
    {
      "cell_type": "markdown",
      "metadata": {
        "id": "WKmM8HwYAyB2"
      },
      "source": [
        "##시간 전처리"
      ]
    },
    {
      "cell_type": "code",
      "execution_count": 40,
      "metadata": {
        "id": "XK2-7CbbA0RG"
      },
      "outputs": [],
      "source": [
        "# 시간을 각각 month, date, hour, minute으로 변환\n",
        "# 주말(공휴일) 여부 추가\n",
        "train['datetime'] = train['datetime'].astype(str)\n",
        "test['datetime'] = test['datetime'].astype(str)\n",
        "\n",
        "from datetime import datetime\n",
        "\n",
        "def remove_timezone_from_date(date_string):\n",
        "    return date_string[:-6]\n",
        "\n",
        "newtime = [remove_timezone_from_date(date_str) for date_str in train['datetime']]\n",
        "train['datetime'] = newtime\n",
        "train['datetime'] = pd.to_datetime(train['datetime'])\n",
        "train['month'] = train['datetime'].dt.month\n",
        "train['date'] = train['datetime'].dt.day\n",
        "train['time_h'] = train['datetime'].dt.hour\n",
        "train['time_m'] = train['datetime'].dt.minute\n",
        "yoil = train['datetime'].dt.weekday\n",
        "train['holiday'] =  yoil.apply(lambda x: 1 if x == 5 else (1 if x == 6 else 0))\n",
        "train.drop('datetime', axis=1, inplace=True)\n",
        "\n",
        "newtime = [remove_timezone_from_date(date_str) for date_str in test['datetime']]\n",
        "test['datetime'] = newtime\n",
        "test['datetime'] = pd.to_datetime(test['datetime'])\n",
        "test['month'] = test['datetime'].dt.month\n",
        "test['date'] = test['datetime'].dt.day\n",
        "test['time_h'] = test['datetime'].dt.hour\n",
        "test['time_m'] = test['datetime'].dt.minute\n",
        "yoil = test['datetime'].dt.weekday\n",
        "test['holiday'] =  yoil.apply(lambda x: 1 if x == 5 else (1 if x == 6 else 0))\n",
        "test.drop('datetime', axis=1, inplace=True)"
      ]
    },
    {
      "cell_type": "code",
      "execution_count": 43,
      "metadata": {
        "id": "xPxiT1S4BWzf"
      },
      "outputs": [],
      "source": [
        "# train set에 공휴일 추가\n",
        "train.loc[train['month']==5].loc[train['date']==29, 'holiday'] = 1\n",
        "train.loc[train['month']==6].loc[train['date']==6, 'holiday'] = 1"
      ]
    },
    {
      "cell_type": "code",
      "execution_count": 44,
      "metadata": {
        "id": "YkRvHlMtFGXs"
      },
      "outputs": [],
      "source": [
        "# test set에 공휴일 추가\n",
        "test.loc[test['month']==5].loc[test['date']==29, 'holiday'] = 1\n",
        "test.loc[test['month']==6].loc[test['date']==6, 'holiday'] = 1"
      ]
    },
    {
      "cell_type": "markdown",
      "metadata": {
        "id": "AL21W1iMVjHS"
      },
      "source": [
        "# 0개수 카운트"
      ]
    },
    {
      "cell_type": "code",
      "execution_count": 46,
      "metadata": {
        "id": "BWSIlTaKVlFj"
      },
      "outputs": [],
      "source": [
        "# 행의 0 갯수 추가\n",
        "# train 에 진행\n",
        "df = train.copy()\n",
        "df = df.drop(['time_h', 'holiday'],axis=1)\n",
        "df.dropna(inplace=True)\n",
        "zero_counts = df.apply(lambda row: row.value_counts().get(0, 0), axis=1)\n",
        "train['zero'] = pd.DataFrame(zero_counts)"
      ]
    },
    {
      "cell_type": "code",
      "execution_count": 47,
      "metadata": {
        "id": "9A8jupdTVlht"
      },
      "outputs": [],
      "source": [
        "# test에 동일하게 진행\n",
        "df = test.copy()\n",
        "df = df.drop(['time_h', 'holiday'],axis=1)\n",
        "df.dropna(inplace=True)\n",
        "zero_counts = df.apply(lambda row: row.value_counts().get(0, 0), axis=1)\n",
        "test['zero'] = pd.DataFrame(zero_counts)"
      ]
    },
    {
      "cell_type": "markdown",
      "metadata": {
        "id": "WdyMeB4aV7CR"
      },
      "source": [
        "#필요없는 변수 드랍"
      ]
    },
    {
      "cell_type": "code",
      "execution_count": 48,
      "metadata": {
        "id": "LHMtjuOOZ4A0"
      },
      "outputs": [],
      "source": [
        "from scipy.stats import chi2_contingency"
      ]
    },
    {
      "cell_type": "code",
      "execution_count": 52,
      "metadata": {
        "colab": {
          "base_uri": "https://localhost:8080/"
        },
        "id": "OHdu4Ao2aC-j",
        "outputId": "769c26cb-6083-4cee-9e1e-26055172ce69"
      },
      "outputs": [
        {
          "data": {
            "text/plain": [
              "1.0"
            ]
          },
          "execution_count": 52,
          "metadata": {},
          "output_type": "execute_result"
        }
      ],
      "source": [
        "# 카이제곱검정결과 p값이 1로 두변수가 관계가 없음\n",
        "res = pd.crosstab(train['uenomax'],train['time_m'])\n",
        "chires = chi2_contingency(res,correction=False)\n",
        "chires.pvalue"
      ]
    },
    {
      "cell_type": "code",
      "execution_count": 53,
      "metadata": {
        "id": "A6O6gdCgV8ex"
      },
      "outputs": [],
      "source": [
        "# chi제곱 검정 결과 uenomax와 관련이 없음\n",
        "# 드랍\n",
        "train.drop('time_m', axis=1, inplace=True)\n",
        "test.drop('time_m', axis=1, inplace=True)"
      ]
    },
    {
      "cell_type": "markdown",
      "metadata": {
        "id": "2Of5TEjAsS1m"
      },
      "source": [
        "## 전처리 데이터셋 저장"
      ]
    },
    {
      "cell_type": "code",
      "execution_count": null,
      "metadata": {
        "id": "vA8tlwausUOC"
      },
      "outputs": [],
      "source": [
        "train.to_csv('Q1_tr_최종전처리.csv', index=False)\n",
        "test.to_csv('Q1_te_최종전처리.csv', index=False)"
      ]
    }
  ],
  "metadata": {
    "colab": {
      "provenance": []
    },
    "kernelspec": {
      "display_name": "Python 3",
      "name": "python3"
    },
    "language_info": {
      "name": "python"
    }
  },
  "nbformat": 4,
  "nbformat_minor": 0
}
