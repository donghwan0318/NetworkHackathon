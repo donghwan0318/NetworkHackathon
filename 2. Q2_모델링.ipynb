{
  "cells": [
    {
      "cell_type": "code",
      "execution_count": null,
      "metadata": {
        "id": "W2eIeaPUuyqX"
      },
      "outputs": [],
      "source": [
        "!pip install pycaret\n",
        "!pip install pandas\n",
        "!pip install joblib"
      ]
    },
    {
      "cell_type": "code",
      "execution_count": 1,
      "metadata": {
        "id": "CydP4vUyvOuS"
      },
      "outputs": [],
      "source": [
        "import pandas as pd\n",
        "import joblib as jl"
      ]
    },
    {
      "cell_type": "code",
      "execution_count": 3,
      "metadata": {
        "id": "_nSczLAyvTSU"
      },
      "outputs": [],
      "source": [
        "train=pd.read_csv('C:/Users/admin/Desktop/통신/Q2/data/Q2_train_최종.csv')"
      ]
    },
    {
      "cell_type": "code",
      "execution_count": 4,
      "metadata": {
        "id": "0v0d58IYu2Tn"
      },
      "outputs": [
        {
          "data": {
            "text/html": [
              "<style type=\"text/css\">\n",
              "#T_a5118_row8_col1, #T_a5118_row12_col1 {\n",
              "  background-color: lightgreen;\n",
              "}\n",
              "</style>\n",
              "<table id=\"T_a5118\">\n",
              "  <thead>\n",
              "    <tr>\n",
              "      <th class=\"blank level0\" >&nbsp;</th>\n",
              "      <th id=\"T_a5118_level0_col0\" class=\"col_heading level0 col0\" >Description</th>\n",
              "      <th id=\"T_a5118_level0_col1\" class=\"col_heading level0 col1\" >Value</th>\n",
              "    </tr>\n",
              "  </thead>\n",
              "  <tbody>\n",
              "    <tr>\n",
              "      <th id=\"T_a5118_level0_row0\" class=\"row_heading level0 row0\" >0</th>\n",
              "      <td id=\"T_a5118_row0_col0\" class=\"data row0 col0\" >Session id</td>\n",
              "      <td id=\"T_a5118_row0_col1\" class=\"data row0 col1\" >23</td>\n",
              "    </tr>\n",
              "    <tr>\n",
              "      <th id=\"T_a5118_level0_row1\" class=\"row_heading level0 row1\" >1</th>\n",
              "      <td id=\"T_a5118_row1_col0\" class=\"data row1 col0\" >Target</td>\n",
              "      <td id=\"T_a5118_row1_col1\" class=\"data row1 col1\" >root_cause_type</td>\n",
              "    </tr>\n",
              "    <tr>\n",
              "      <th id=\"T_a5118_level0_row2\" class=\"row_heading level0 row2\" >2</th>\n",
              "      <td id=\"T_a5118_row2_col0\" class=\"data row2 col0\" >Target type</td>\n",
              "      <td id=\"T_a5118_row2_col1\" class=\"data row2 col1\" >Multiclass</td>\n",
              "    </tr>\n",
              "    <tr>\n",
              "      <th id=\"T_a5118_level0_row3\" class=\"row_heading level0 row3\" >3</th>\n",
              "      <td id=\"T_a5118_row3_col0\" class=\"data row3 col0\" >Original data shape</td>\n",
              "      <td id=\"T_a5118_row3_col1\" class=\"data row3 col1\" >(1114, 9)</td>\n",
              "    </tr>\n",
              "    <tr>\n",
              "      <th id=\"T_a5118_level0_row4\" class=\"row_heading level0 row4\" >4</th>\n",
              "      <td id=\"T_a5118_row4_col0\" class=\"data row4 col0\" >Transformed data shape</td>\n",
              "      <td id=\"T_a5118_row4_col1\" class=\"data row4 col1\" >(1114, 9)</td>\n",
              "    </tr>\n",
              "    <tr>\n",
              "      <th id=\"T_a5118_level0_row5\" class=\"row_heading level0 row5\" >5</th>\n",
              "      <td id=\"T_a5118_row5_col0\" class=\"data row5 col0\" >Transformed train set shape</td>\n",
              "      <td id=\"T_a5118_row5_col1\" class=\"data row5 col1\" >(779, 9)</td>\n",
              "    </tr>\n",
              "    <tr>\n",
              "      <th id=\"T_a5118_level0_row6\" class=\"row_heading level0 row6\" >6</th>\n",
              "      <td id=\"T_a5118_row6_col0\" class=\"data row6 col0\" >Transformed test set shape</td>\n",
              "      <td id=\"T_a5118_row6_col1\" class=\"data row6 col1\" >(335, 9)</td>\n",
              "    </tr>\n",
              "    <tr>\n",
              "      <th id=\"T_a5118_level0_row7\" class=\"row_heading level0 row7\" >7</th>\n",
              "      <td id=\"T_a5118_row7_col0\" class=\"data row7 col0\" >Numeric features</td>\n",
              "      <td id=\"T_a5118_row7_col1\" class=\"data row7 col1\" >8</td>\n",
              "    </tr>\n",
              "    <tr>\n",
              "      <th id=\"T_a5118_level0_row8\" class=\"row_heading level0 row8\" >8</th>\n",
              "      <td id=\"T_a5118_row8_col0\" class=\"data row8 col0\" >Preprocess</td>\n",
              "      <td id=\"T_a5118_row8_col1\" class=\"data row8 col1\" >True</td>\n",
              "    </tr>\n",
              "    <tr>\n",
              "      <th id=\"T_a5118_level0_row9\" class=\"row_heading level0 row9\" >9</th>\n",
              "      <td id=\"T_a5118_row9_col0\" class=\"data row9 col0\" >Imputation type</td>\n",
              "      <td id=\"T_a5118_row9_col1\" class=\"data row9 col1\" >simple</td>\n",
              "    </tr>\n",
              "    <tr>\n",
              "      <th id=\"T_a5118_level0_row10\" class=\"row_heading level0 row10\" >10</th>\n",
              "      <td id=\"T_a5118_row10_col0\" class=\"data row10 col0\" >Numeric imputation</td>\n",
              "      <td id=\"T_a5118_row10_col1\" class=\"data row10 col1\" >mean</td>\n",
              "    </tr>\n",
              "    <tr>\n",
              "      <th id=\"T_a5118_level0_row11\" class=\"row_heading level0 row11\" >11</th>\n",
              "      <td id=\"T_a5118_row11_col0\" class=\"data row11 col0\" >Categorical imputation</td>\n",
              "      <td id=\"T_a5118_row11_col1\" class=\"data row11 col1\" >mode</td>\n",
              "    </tr>\n",
              "    <tr>\n",
              "      <th id=\"T_a5118_level0_row12\" class=\"row_heading level0 row12\" >12</th>\n",
              "      <td id=\"T_a5118_row12_col0\" class=\"data row12 col0\" >Normalize</td>\n",
              "      <td id=\"T_a5118_row12_col1\" class=\"data row12 col1\" >True</td>\n",
              "    </tr>\n",
              "    <tr>\n",
              "      <th id=\"T_a5118_level0_row13\" class=\"row_heading level0 row13\" >13</th>\n",
              "      <td id=\"T_a5118_row13_col0\" class=\"data row13 col0\" >Normalize method</td>\n",
              "      <td id=\"T_a5118_row13_col1\" class=\"data row13 col1\" >minmax</td>\n",
              "    </tr>\n",
              "    <tr>\n",
              "      <th id=\"T_a5118_level0_row14\" class=\"row_heading level0 row14\" >14</th>\n",
              "      <td id=\"T_a5118_row14_col0\" class=\"data row14 col0\" >Fold Generator</td>\n",
              "      <td id=\"T_a5118_row14_col1\" class=\"data row14 col1\" >StratifiedKFold</td>\n",
              "    </tr>\n",
              "    <tr>\n",
              "      <th id=\"T_a5118_level0_row15\" class=\"row_heading level0 row15\" >15</th>\n",
              "      <td id=\"T_a5118_row15_col0\" class=\"data row15 col0\" >Fold Number</td>\n",
              "      <td id=\"T_a5118_row15_col1\" class=\"data row15 col1\" >4</td>\n",
              "    </tr>\n",
              "    <tr>\n",
              "      <th id=\"T_a5118_level0_row16\" class=\"row_heading level0 row16\" >16</th>\n",
              "      <td id=\"T_a5118_row16_col0\" class=\"data row16 col0\" >CPU Jobs</td>\n",
              "      <td id=\"T_a5118_row16_col1\" class=\"data row16 col1\" >-1</td>\n",
              "    </tr>\n",
              "    <tr>\n",
              "      <th id=\"T_a5118_level0_row17\" class=\"row_heading level0 row17\" >17</th>\n",
              "      <td id=\"T_a5118_row17_col0\" class=\"data row17 col0\" >Use GPU</td>\n",
              "      <td id=\"T_a5118_row17_col1\" class=\"data row17 col1\" >False</td>\n",
              "    </tr>\n",
              "    <tr>\n",
              "      <th id=\"T_a5118_level0_row18\" class=\"row_heading level0 row18\" >18</th>\n",
              "      <td id=\"T_a5118_row18_col0\" class=\"data row18 col0\" >Log Experiment</td>\n",
              "      <td id=\"T_a5118_row18_col1\" class=\"data row18 col1\" >False</td>\n",
              "    </tr>\n",
              "    <tr>\n",
              "      <th id=\"T_a5118_level0_row19\" class=\"row_heading level0 row19\" >19</th>\n",
              "      <td id=\"T_a5118_row19_col0\" class=\"data row19 col0\" >Experiment Name</td>\n",
              "      <td id=\"T_a5118_row19_col1\" class=\"data row19 col1\" >clf-default-name</td>\n",
              "    </tr>\n",
              "    <tr>\n",
              "      <th id=\"T_a5118_level0_row20\" class=\"row_heading level0 row20\" >20</th>\n",
              "      <td id=\"T_a5118_row20_col0\" class=\"data row20 col0\" >USI</td>\n",
              "      <td id=\"T_a5118_row20_col1\" class=\"data row20 col1\" >61d0</td>\n",
              "    </tr>\n",
              "  </tbody>\n",
              "</table>\n"
            ],
            "text/plain": [
              "<pandas.io.formats.style.Styler at 0x23d9834e3e0>"
            ]
          },
          "metadata": {},
          "output_type": "display_data"
        }
      ],
      "source": [
        "#데이터 자동 전처리(minmax scaling)와 파이프라인 생성\n",
        "from pycaret.classification import *\n",
        "\n",
        "clf = setup(data=train,\n",
        "            target='root_cause_type',\n",
        "            normalize = True,\n",
        "            normalize_method = 'minmax',\n",
        "            fold=4,\n",
        "            fold_shuffle=True,\n",
        "            session_id=23)"
      ]
    },
    {
      "cell_type": "code",
      "execution_count": 5,
      "metadata": {
        "id": "7uQP3_0FvCoK"
      },
      "outputs": [
        {
          "data": {
            "text/html": [],
            "text/plain": [
              "<IPython.core.display.HTML object>"
            ]
          },
          "metadata": {},
          "output_type": "display_data"
        },
        {
          "data": {
            "text/html": [
              "<style type=\"text/css\">\n",
              "#T_0fa2e th {\n",
              "  text-align: left;\n",
              "}\n",
              "#T_0fa2e_row0_col0, #T_0fa2e_row0_col2, #T_0fa2e_row1_col0, #T_0fa2e_row1_col1, #T_0fa2e_row1_col3, #T_0fa2e_row1_col4, #T_0fa2e_row1_col5, #T_0fa2e_row1_col6, #T_0fa2e_row1_col7, #T_0fa2e_row2_col0, #T_0fa2e_row2_col1, #T_0fa2e_row2_col3, #T_0fa2e_row2_col4, #T_0fa2e_row2_col5, #T_0fa2e_row2_col6, #T_0fa2e_row2_col7, #T_0fa2e_row3_col0, #T_0fa2e_row3_col1, #T_0fa2e_row3_col3, #T_0fa2e_row3_col4, #T_0fa2e_row3_col5, #T_0fa2e_row3_col6, #T_0fa2e_row3_col7, #T_0fa2e_row4_col0, #T_0fa2e_row4_col1, #T_0fa2e_row4_col3, #T_0fa2e_row4_col4, #T_0fa2e_row4_col5, #T_0fa2e_row4_col6, #T_0fa2e_row4_col7, #T_0fa2e_row5_col0, #T_0fa2e_row5_col1, #T_0fa2e_row5_col2, #T_0fa2e_row5_col3, #T_0fa2e_row5_col4, #T_0fa2e_row5_col5, #T_0fa2e_row5_col6, #T_0fa2e_row5_col7, #T_0fa2e_row6_col0, #T_0fa2e_row6_col1, #T_0fa2e_row6_col2, #T_0fa2e_row6_col3, #T_0fa2e_row6_col4, #T_0fa2e_row6_col5, #T_0fa2e_row6_col6, #T_0fa2e_row6_col7, #T_0fa2e_row7_col0, #T_0fa2e_row7_col1, #T_0fa2e_row7_col2, #T_0fa2e_row7_col3, #T_0fa2e_row7_col4, #T_0fa2e_row7_col5, #T_0fa2e_row7_col6, #T_0fa2e_row7_col7, #T_0fa2e_row8_col0, #T_0fa2e_row8_col1, #T_0fa2e_row8_col2, #T_0fa2e_row8_col3, #T_0fa2e_row8_col4, #T_0fa2e_row8_col5, #T_0fa2e_row8_col6, #T_0fa2e_row8_col7, #T_0fa2e_row9_col0, #T_0fa2e_row9_col1, #T_0fa2e_row9_col2, #T_0fa2e_row9_col3, #T_0fa2e_row9_col4, #T_0fa2e_row9_col5, #T_0fa2e_row9_col6, #T_0fa2e_row9_col7, #T_0fa2e_row10_col0, #T_0fa2e_row10_col1, #T_0fa2e_row10_col2, #T_0fa2e_row10_col3, #T_0fa2e_row10_col4, #T_0fa2e_row10_col5, #T_0fa2e_row10_col6, #T_0fa2e_row10_col7, #T_0fa2e_row11_col0, #T_0fa2e_row11_col1, #T_0fa2e_row11_col2, #T_0fa2e_row11_col3, #T_0fa2e_row11_col4, #T_0fa2e_row11_col5, #T_0fa2e_row11_col6, #T_0fa2e_row11_col7, #T_0fa2e_row12_col0, #T_0fa2e_row12_col1, #T_0fa2e_row12_col2, #T_0fa2e_row12_col3, #T_0fa2e_row12_col4, #T_0fa2e_row12_col5, #T_0fa2e_row12_col6, #T_0fa2e_row12_col7, #T_0fa2e_row13_col0, #T_0fa2e_row13_col1, #T_0fa2e_row13_col2, #T_0fa2e_row13_col3, #T_0fa2e_row13_col4, #T_0fa2e_row13_col5, #T_0fa2e_row13_col6, #T_0fa2e_row13_col7, #T_0fa2e_row14_col0, #T_0fa2e_row14_col1, #T_0fa2e_row14_col2, #T_0fa2e_row14_col3, #T_0fa2e_row14_col4, #T_0fa2e_row14_col5, #T_0fa2e_row14_col6, #T_0fa2e_row14_col7 {\n",
              "  text-align: left;\n",
              "}\n",
              "#T_0fa2e_row0_col1, #T_0fa2e_row0_col3, #T_0fa2e_row0_col4, #T_0fa2e_row0_col5, #T_0fa2e_row0_col6, #T_0fa2e_row0_col7, #T_0fa2e_row1_col2, #T_0fa2e_row2_col2, #T_0fa2e_row3_col2, #T_0fa2e_row4_col2 {\n",
              "  text-align: left;\n",
              "  background-color: yellow;\n",
              "}\n",
              "#T_0fa2e_row0_col8, #T_0fa2e_row1_col8, #T_0fa2e_row2_col8, #T_0fa2e_row3_col8, #T_0fa2e_row4_col8, #T_0fa2e_row5_col8, #T_0fa2e_row6_col8, #T_0fa2e_row7_col8, #T_0fa2e_row8_col8, #T_0fa2e_row9_col8, #T_0fa2e_row11_col8, #T_0fa2e_row12_col8, #T_0fa2e_row13_col8, #T_0fa2e_row14_col8 {\n",
              "  text-align: left;\n",
              "  background-color: lightgrey;\n",
              "}\n",
              "#T_0fa2e_row10_col8 {\n",
              "  text-align: left;\n",
              "  background-color: yellow;\n",
              "  background-color: lightgrey;\n",
              "}\n",
              "</style>\n",
              "<table id=\"T_0fa2e\">\n",
              "  <thead>\n",
              "    <tr>\n",
              "      <th class=\"blank level0\" >&nbsp;</th>\n",
              "      <th id=\"T_0fa2e_level0_col0\" class=\"col_heading level0 col0\" >Model</th>\n",
              "      <th id=\"T_0fa2e_level0_col1\" class=\"col_heading level0 col1\" >Accuracy</th>\n",
              "      <th id=\"T_0fa2e_level0_col2\" class=\"col_heading level0 col2\" >AUC</th>\n",
              "      <th id=\"T_0fa2e_level0_col3\" class=\"col_heading level0 col3\" >Recall</th>\n",
              "      <th id=\"T_0fa2e_level0_col4\" class=\"col_heading level0 col4\" >Prec.</th>\n",
              "      <th id=\"T_0fa2e_level0_col5\" class=\"col_heading level0 col5\" >F1</th>\n",
              "      <th id=\"T_0fa2e_level0_col6\" class=\"col_heading level0 col6\" >Kappa</th>\n",
              "      <th id=\"T_0fa2e_level0_col7\" class=\"col_heading level0 col7\" >MCC</th>\n",
              "      <th id=\"T_0fa2e_level0_col8\" class=\"col_heading level0 col8\" >TT (Sec)</th>\n",
              "    </tr>\n",
              "  </thead>\n",
              "  <tbody>\n",
              "    <tr>\n",
              "      <th id=\"T_0fa2e_level0_row0\" class=\"row_heading level0 row0\" >xgboost</th>\n",
              "      <td id=\"T_0fa2e_row0_col0\" class=\"data row0 col0\" >Extreme Gradient Boosting</td>\n",
              "      <td id=\"T_0fa2e_row0_col1\" class=\"data row0 col1\" >0.9949</td>\n",
              "      <td id=\"T_0fa2e_row0_col2\" class=\"data row0 col2\" >0.9995</td>\n",
              "      <td id=\"T_0fa2e_row0_col3\" class=\"data row0 col3\" >0.9949</td>\n",
              "      <td id=\"T_0fa2e_row0_col4\" class=\"data row0 col4\" >0.9949</td>\n",
              "      <td id=\"T_0fa2e_row0_col5\" class=\"data row0 col5\" >0.9949</td>\n",
              "      <td id=\"T_0fa2e_row0_col6\" class=\"data row0 col6\" >0.9917</td>\n",
              "      <td id=\"T_0fa2e_row0_col7\" class=\"data row0 col7\" >0.9917</td>\n",
              "      <td id=\"T_0fa2e_row0_col8\" class=\"data row0 col8\" >0.1625</td>\n",
              "    </tr>\n",
              "    <tr>\n",
              "      <th id=\"T_0fa2e_level0_row1\" class=\"row_heading level0 row1\" >rf</th>\n",
              "      <td id=\"T_0fa2e_row1_col0\" class=\"data row1 col0\" >Random Forest Classifier</td>\n",
              "      <td id=\"T_0fa2e_row1_col1\" class=\"data row1 col1\" >0.9923</td>\n",
              "      <td id=\"T_0fa2e_row1_col2\" class=\"data row1 col2\" >0.9998</td>\n",
              "      <td id=\"T_0fa2e_row1_col3\" class=\"data row1 col3\" >0.9923</td>\n",
              "      <td id=\"T_0fa2e_row1_col4\" class=\"data row1 col4\" >0.9924</td>\n",
              "      <td id=\"T_0fa2e_row1_col5\" class=\"data row1 col5\" >0.9923</td>\n",
              "      <td id=\"T_0fa2e_row1_col6\" class=\"data row1 col6\" >0.9875</td>\n",
              "      <td id=\"T_0fa2e_row1_col7\" class=\"data row1 col7\" >0.9876</td>\n",
              "      <td id=\"T_0fa2e_row1_col8\" class=\"data row1 col8\" >0.1725</td>\n",
              "    </tr>\n",
              "    <tr>\n",
              "      <th id=\"T_0fa2e_level0_row2\" class=\"row_heading level0 row2\" >gbc</th>\n",
              "      <td id=\"T_0fa2e_row2_col0\" class=\"data row2 col0\" >Gradient Boosting Classifier</td>\n",
              "      <td id=\"T_0fa2e_row2_col1\" class=\"data row2 col1\" >0.9923</td>\n",
              "      <td id=\"T_0fa2e_row2_col2\" class=\"data row2 col2\" >0.9998</td>\n",
              "      <td id=\"T_0fa2e_row2_col3\" class=\"data row2 col3\" >0.9923</td>\n",
              "      <td id=\"T_0fa2e_row2_col4\" class=\"data row2 col4\" >0.9925</td>\n",
              "      <td id=\"T_0fa2e_row2_col5\" class=\"data row2 col5\" >0.9923</td>\n",
              "      <td id=\"T_0fa2e_row2_col6\" class=\"data row2 col6\" >0.9875</td>\n",
              "      <td id=\"T_0fa2e_row2_col7\" class=\"data row2 col7\" >0.9876</td>\n",
              "      <td id=\"T_0fa2e_row2_col8\" class=\"data row2 col8\" >0.1825</td>\n",
              "    </tr>\n",
              "    <tr>\n",
              "      <th id=\"T_0fa2e_level0_row3\" class=\"row_heading level0 row3\" >et</th>\n",
              "      <td id=\"T_0fa2e_row3_col0\" class=\"data row3 col0\" >Extra Trees Classifier</td>\n",
              "      <td id=\"T_0fa2e_row3_col1\" class=\"data row3 col1\" >0.9897</td>\n",
              "      <td id=\"T_0fa2e_row3_col2\" class=\"data row3 col2\" >0.9998</td>\n",
              "      <td id=\"T_0fa2e_row3_col3\" class=\"data row3 col3\" >0.9897</td>\n",
              "      <td id=\"T_0fa2e_row3_col4\" class=\"data row3 col4\" >0.9900</td>\n",
              "      <td id=\"T_0fa2e_row3_col5\" class=\"data row3 col5\" >0.9897</td>\n",
              "      <td id=\"T_0fa2e_row3_col6\" class=\"data row3 col6\" >0.9833</td>\n",
              "      <td id=\"T_0fa2e_row3_col7\" class=\"data row3 col7\" >0.9835</td>\n",
              "      <td id=\"T_0fa2e_row3_col8\" class=\"data row3 col8\" >0.1775</td>\n",
              "    </tr>\n",
              "    <tr>\n",
              "      <th id=\"T_0fa2e_level0_row4\" class=\"row_heading level0 row4\" >lightgbm</th>\n",
              "      <td id=\"T_0fa2e_row4_col0\" class=\"data row4 col0\" >Light Gradient Boosting Machine</td>\n",
              "      <td id=\"T_0fa2e_row4_col1\" class=\"data row4 col1\" >0.9897</td>\n",
              "      <td id=\"T_0fa2e_row4_col2\" class=\"data row4 col2\" >0.9998</td>\n",
              "      <td id=\"T_0fa2e_row4_col3\" class=\"data row4 col3\" >0.9897</td>\n",
              "      <td id=\"T_0fa2e_row4_col4\" class=\"data row4 col4\" >0.9900</td>\n",
              "      <td id=\"T_0fa2e_row4_col5\" class=\"data row4 col5\" >0.9898</td>\n",
              "      <td id=\"T_0fa2e_row4_col6\" class=\"data row4 col6\" >0.9834</td>\n",
              "      <td id=\"T_0fa2e_row4_col7\" class=\"data row4 col7\" >0.9835</td>\n",
              "      <td id=\"T_0fa2e_row4_col8\" class=\"data row4 col8\" >0.1725</td>\n",
              "    </tr>\n",
              "    <tr>\n",
              "      <th id=\"T_0fa2e_level0_row5\" class=\"row_heading level0 row5\" >dt</th>\n",
              "      <td id=\"T_0fa2e_row5_col0\" class=\"data row5 col0\" >Decision Tree Classifier</td>\n",
              "      <td id=\"T_0fa2e_row5_col1\" class=\"data row5 col1\" >0.9884</td>\n",
              "      <td id=\"T_0fa2e_row5_col2\" class=\"data row5 col2\" >0.9900</td>\n",
              "      <td id=\"T_0fa2e_row5_col3\" class=\"data row5 col3\" >0.9884</td>\n",
              "      <td id=\"T_0fa2e_row5_col4\" class=\"data row5 col4\" >0.9886</td>\n",
              "      <td id=\"T_0fa2e_row5_col5\" class=\"data row5 col5\" >0.9884</td>\n",
              "      <td id=\"T_0fa2e_row5_col6\" class=\"data row5 col6\" >0.9812</td>\n",
              "      <td id=\"T_0fa2e_row5_col7\" class=\"data row5 col7\" >0.9813</td>\n",
              "      <td id=\"T_0fa2e_row5_col8\" class=\"data row5 col8\" >0.1400</td>\n",
              "    </tr>\n",
              "    <tr>\n",
              "      <th id=\"T_0fa2e_level0_row6\" class=\"row_heading level0 row6\" >svm</th>\n",
              "      <td id=\"T_0fa2e_row6_col0\" class=\"data row6 col0\" >SVM - Linear Kernel</td>\n",
              "      <td id=\"T_0fa2e_row6_col1\" class=\"data row6 col1\" >0.9731</td>\n",
              "      <td id=\"T_0fa2e_row6_col2\" class=\"data row6 col2\" >0.0000</td>\n",
              "      <td id=\"T_0fa2e_row6_col3\" class=\"data row6 col3\" >0.9731</td>\n",
              "      <td id=\"T_0fa2e_row6_col4\" class=\"data row6 col4\" >0.9742</td>\n",
              "      <td id=\"T_0fa2e_row6_col5\" class=\"data row6 col5\" >0.9732</td>\n",
              "      <td id=\"T_0fa2e_row6_col6\" class=\"data row6 col6\" >0.9564</td>\n",
              "      <td id=\"T_0fa2e_row6_col7\" class=\"data row6 col7\" >0.9567</td>\n",
              "      <td id=\"T_0fa2e_row6_col8\" class=\"data row6 col8\" >0.1450</td>\n",
              "    </tr>\n",
              "    <tr>\n",
              "      <th id=\"T_0fa2e_level0_row7\" class=\"row_heading level0 row7\" >ada</th>\n",
              "      <td id=\"T_0fa2e_row7_col0\" class=\"data row7 col0\" >Ada Boost Classifier</td>\n",
              "      <td id=\"T_0fa2e_row7_col1\" class=\"data row7 col1\" >0.9653</td>\n",
              "      <td id=\"T_0fa2e_row7_col2\" class=\"data row7 col2\" >0.9894</td>\n",
              "      <td id=\"T_0fa2e_row7_col3\" class=\"data row7 col3\" >0.9653</td>\n",
              "      <td id=\"T_0fa2e_row7_col4\" class=\"data row7 col4\" >0.9669</td>\n",
              "      <td id=\"T_0fa2e_row7_col5\" class=\"data row7 col5\" >0.9643</td>\n",
              "      <td id=\"T_0fa2e_row7_col6\" class=\"data row7 col6\" >0.9428</td>\n",
              "      <td id=\"T_0fa2e_row7_col7\" class=\"data row7 col7\" >0.9443</td>\n",
              "      <td id=\"T_0fa2e_row7_col8\" class=\"data row7 col8\" >0.1700</td>\n",
              "    </tr>\n",
              "    <tr>\n",
              "      <th id=\"T_0fa2e_level0_row8\" class=\"row_heading level0 row8\" >knn</th>\n",
              "      <td id=\"T_0fa2e_row8_col0\" class=\"data row8 col0\" >K Neighbors Classifier</td>\n",
              "      <td id=\"T_0fa2e_row8_col1\" class=\"data row8 col1\" >0.9615</td>\n",
              "      <td id=\"T_0fa2e_row8_col2\" class=\"data row8 col2\" >0.9907</td>\n",
              "      <td id=\"T_0fa2e_row8_col3\" class=\"data row8 col3\" >0.9615</td>\n",
              "      <td id=\"T_0fa2e_row8_col4\" class=\"data row8 col4\" >0.9620</td>\n",
              "      <td id=\"T_0fa2e_row8_col5\" class=\"data row8 col5\" >0.9613</td>\n",
              "      <td id=\"T_0fa2e_row8_col6\" class=\"data row8 col6\" >0.9373</td>\n",
              "      <td id=\"T_0fa2e_row8_col7\" class=\"data row8 col7\" >0.9378</td>\n",
              "      <td id=\"T_0fa2e_row8_col8\" class=\"data row8 col8\" >0.5200</td>\n",
              "    </tr>\n",
              "    <tr>\n",
              "      <th id=\"T_0fa2e_level0_row9\" class=\"row_heading level0 row9\" >lda</th>\n",
              "      <td id=\"T_0fa2e_row9_col0\" class=\"data row9 col0\" >Linear Discriminant Analysis</td>\n",
              "      <td id=\"T_0fa2e_row9_col1\" class=\"data row9 col1\" >0.9423</td>\n",
              "      <td id=\"T_0fa2e_row9_col2\" class=\"data row9 col2\" >0.9933</td>\n",
              "      <td id=\"T_0fa2e_row9_col3\" class=\"data row9 col3\" >0.9423</td>\n",
              "      <td id=\"T_0fa2e_row9_col4\" class=\"data row9 col4\" >0.9432</td>\n",
              "      <td id=\"T_0fa2e_row9_col5\" class=\"data row9 col5\" >0.9405</td>\n",
              "      <td id=\"T_0fa2e_row9_col6\" class=\"data row9 col6\" >0.9044</td>\n",
              "      <td id=\"T_0fa2e_row9_col7\" class=\"data row9 col7\" >0.9065</td>\n",
              "      <td id=\"T_0fa2e_row9_col8\" class=\"data row9 col8\" >0.1425</td>\n",
              "    </tr>\n",
              "    <tr>\n",
              "      <th id=\"T_0fa2e_level0_row10\" class=\"row_heading level0 row10\" >ridge</th>\n",
              "      <td id=\"T_0fa2e_row10_col0\" class=\"data row10 col0\" >Ridge Classifier</td>\n",
              "      <td id=\"T_0fa2e_row10_col1\" class=\"data row10 col1\" >0.9256</td>\n",
              "      <td id=\"T_0fa2e_row10_col2\" class=\"data row10 col2\" >0.0000</td>\n",
              "      <td id=\"T_0fa2e_row10_col3\" class=\"data row10 col3\" >0.9256</td>\n",
              "      <td id=\"T_0fa2e_row10_col4\" class=\"data row10 col4\" >0.9264</td>\n",
              "      <td id=\"T_0fa2e_row10_col5\" class=\"data row10 col5\" >0.9219</td>\n",
              "      <td id=\"T_0fa2e_row10_col6\" class=\"data row10 col6\" >0.8765</td>\n",
              "      <td id=\"T_0fa2e_row10_col7\" class=\"data row10 col7\" >0.8796</td>\n",
              "      <td id=\"T_0fa2e_row10_col8\" class=\"data row10 col8\" >0.1325</td>\n",
              "    </tr>\n",
              "    <tr>\n",
              "      <th id=\"T_0fa2e_level0_row11\" class=\"row_heading level0 row11\" >lr</th>\n",
              "      <td id=\"T_0fa2e_row11_col0\" class=\"data row11 col0\" >Logistic Regression</td>\n",
              "      <td id=\"T_0fa2e_row11_col1\" class=\"data row11 col1\" >0.9230</td>\n",
              "      <td id=\"T_0fa2e_row11_col2\" class=\"data row11 col2\" >0.9880</td>\n",
              "      <td id=\"T_0fa2e_row11_col3\" class=\"data row11 col3\" >0.9230</td>\n",
              "      <td id=\"T_0fa2e_row11_col4\" class=\"data row11 col4\" >0.9234</td>\n",
              "      <td id=\"T_0fa2e_row11_col5\" class=\"data row11 col5\" >0.9193</td>\n",
              "      <td id=\"T_0fa2e_row11_col6\" class=\"data row11 col6\" >0.8723</td>\n",
              "      <td id=\"T_0fa2e_row11_col7\" class=\"data row11 col7\" >0.8752</td>\n",
              "      <td id=\"T_0fa2e_row11_col8\" class=\"data row11 col8\" >0.6825</td>\n",
              "    </tr>\n",
              "    <tr>\n",
              "      <th id=\"T_0fa2e_level0_row12\" class=\"row_heading level0 row12\" >nb</th>\n",
              "      <td id=\"T_0fa2e_row12_col0\" class=\"data row12 col0\" >Naive Bayes</td>\n",
              "      <td id=\"T_0fa2e_row12_col1\" class=\"data row12 col1\" >0.8777</td>\n",
              "      <td id=\"T_0fa2e_row12_col2\" class=\"data row12 col2\" >0.9940</td>\n",
              "      <td id=\"T_0fa2e_row12_col3\" class=\"data row12 col3\" >0.8777</td>\n",
              "      <td id=\"T_0fa2e_row12_col4\" class=\"data row12 col4\" >0.9370</td>\n",
              "      <td id=\"T_0fa2e_row12_col5\" class=\"data row12 col5\" >0.8757</td>\n",
              "      <td id=\"T_0fa2e_row12_col6\" class=\"data row12 col6\" >0.8248</td>\n",
              "      <td id=\"T_0fa2e_row12_col7\" class=\"data row12 col7\" >0.8522</td>\n",
              "      <td id=\"T_0fa2e_row12_col8\" class=\"data row12 col8\" >0.5925</td>\n",
              "    </tr>\n",
              "    <tr>\n",
              "      <th id=\"T_0fa2e_level0_row13\" class=\"row_heading level0 row13\" >qda</th>\n",
              "      <td id=\"T_0fa2e_row13_col0\" class=\"data row13 col0\" >Quadratic Discriminant Analysis</td>\n",
              "      <td id=\"T_0fa2e_row13_col1\" class=\"data row13 col1\" >0.8226</td>\n",
              "      <td id=\"T_0fa2e_row13_col2\" class=\"data row13 col2\" >0.9899</td>\n",
              "      <td id=\"T_0fa2e_row13_col3\" class=\"data row13 col3\" >0.8226</td>\n",
              "      <td id=\"T_0fa2e_row13_col4\" class=\"data row13 col4\" >0.9099</td>\n",
              "      <td id=\"T_0fa2e_row13_col5\" class=\"data row13 col5\" >0.8249</td>\n",
              "      <td id=\"T_0fa2e_row13_col6\" class=\"data row13 col6\" >0.7428</td>\n",
              "      <td id=\"T_0fa2e_row13_col7\" class=\"data row13 col7\" >0.7818</td>\n",
              "      <td id=\"T_0fa2e_row13_col8\" class=\"data row13 col8\" >0.1375</td>\n",
              "    </tr>\n",
              "    <tr>\n",
              "      <th id=\"T_0fa2e_level0_row14\" class=\"row_heading level0 row14\" >dummy</th>\n",
              "      <td id=\"T_0fa2e_row14_col0\" class=\"data row14 col0\" >Dummy Classifier</td>\n",
              "      <td id=\"T_0fa2e_row14_col1\" class=\"data row14 col1\" >0.5019</td>\n",
              "      <td id=\"T_0fa2e_row14_col2\" class=\"data row14 col2\" >0.5000</td>\n",
              "      <td id=\"T_0fa2e_row14_col3\" class=\"data row14 col3\" >0.5019</td>\n",
              "      <td id=\"T_0fa2e_row14_col4\" class=\"data row14 col4\" >0.2519</td>\n",
              "      <td id=\"T_0fa2e_row14_col5\" class=\"data row14 col5\" >0.3355</td>\n",
              "      <td id=\"T_0fa2e_row14_col6\" class=\"data row14 col6\" >0.0000</td>\n",
              "      <td id=\"T_0fa2e_row14_col7\" class=\"data row14 col7\" >0.0000</td>\n",
              "      <td id=\"T_0fa2e_row14_col8\" class=\"data row14 col8\" >0.1350</td>\n",
              "    </tr>\n",
              "  </tbody>\n",
              "</table>\n"
            ],
            "text/plain": [
              "<pandas.io.formats.style.Styler at 0x23dfd1cab00>"
            ]
          },
          "metadata": {},
          "output_type": "display_data"
        },
        {
          "data": {
            "text/html": [],
            "text/plain": [
              "<IPython.core.display.HTML object>"
            ]
          },
          "metadata": {},
          "output_type": "display_data"
        }
      ],
      "source": [
        "#accuracy 기준으로 알고리즘 자동 비교\n",
        "best = compare_models(sort='acc')"
      ]
    },
    {
      "cell_type": "code",
      "execution_count": 6,
      "metadata": {
        "id": "qPNXGS0VvG27"
      },
      "outputs": [
        {
          "data": {
            "text/html": [],
            "text/plain": [
              "<IPython.core.display.HTML object>"
            ]
          },
          "metadata": {},
          "output_type": "display_data"
        },
        {
          "data": {
            "text/html": [
              "<style type=\"text/css\">\n",
              "#T_d8670_row4_col0, #T_d8670_row4_col1, #T_d8670_row4_col2, #T_d8670_row4_col3, #T_d8670_row4_col4, #T_d8670_row4_col5, #T_d8670_row4_col6 {\n",
              "  background: yellow;\n",
              "}\n",
              "</style>\n",
              "<table id=\"T_d8670\">\n",
              "  <thead>\n",
              "    <tr>\n",
              "      <th class=\"blank level0\" >&nbsp;</th>\n",
              "      <th id=\"T_d8670_level0_col0\" class=\"col_heading level0 col0\" >Accuracy</th>\n",
              "      <th id=\"T_d8670_level0_col1\" class=\"col_heading level0 col1\" >AUC</th>\n",
              "      <th id=\"T_d8670_level0_col2\" class=\"col_heading level0 col2\" >Recall</th>\n",
              "      <th id=\"T_d8670_level0_col3\" class=\"col_heading level0 col3\" >Prec.</th>\n",
              "      <th id=\"T_d8670_level0_col4\" class=\"col_heading level0 col4\" >F1</th>\n",
              "      <th id=\"T_d8670_level0_col5\" class=\"col_heading level0 col5\" >Kappa</th>\n",
              "      <th id=\"T_d8670_level0_col6\" class=\"col_heading level0 col6\" >MCC</th>\n",
              "    </tr>\n",
              "    <tr>\n",
              "      <th class=\"index_name level0\" >Fold</th>\n",
              "      <th class=\"blank col0\" >&nbsp;</th>\n",
              "      <th class=\"blank col1\" >&nbsp;</th>\n",
              "      <th class=\"blank col2\" >&nbsp;</th>\n",
              "      <th class=\"blank col3\" >&nbsp;</th>\n",
              "      <th class=\"blank col4\" >&nbsp;</th>\n",
              "      <th class=\"blank col5\" >&nbsp;</th>\n",
              "      <th class=\"blank col6\" >&nbsp;</th>\n",
              "    </tr>\n",
              "  </thead>\n",
              "  <tbody>\n",
              "    <tr>\n",
              "      <th id=\"T_d8670_level0_row0\" class=\"row_heading level0 row0\" >0</th>\n",
              "      <td id=\"T_d8670_row0_col0\" class=\"data row0 col0\" >1.0000</td>\n",
              "      <td id=\"T_d8670_row0_col1\" class=\"data row0 col1\" >1.0000</td>\n",
              "      <td id=\"T_d8670_row0_col2\" class=\"data row0 col2\" >1.0000</td>\n",
              "      <td id=\"T_d8670_row0_col3\" class=\"data row0 col3\" >1.0000</td>\n",
              "      <td id=\"T_d8670_row0_col4\" class=\"data row0 col4\" >1.0000</td>\n",
              "      <td id=\"T_d8670_row0_col5\" class=\"data row0 col5\" >1.0000</td>\n",
              "      <td id=\"T_d8670_row0_col6\" class=\"data row0 col6\" >1.0000</td>\n",
              "    </tr>\n",
              "    <tr>\n",
              "      <th id=\"T_d8670_level0_row1\" class=\"row_heading level0 row1\" >1</th>\n",
              "      <td id=\"T_d8670_row1_col0\" class=\"data row1 col0\" >0.9846</td>\n",
              "      <td id=\"T_d8670_row1_col1\" class=\"data row1 col1\" >0.9998</td>\n",
              "      <td id=\"T_d8670_row1_col2\" class=\"data row1 col2\" >0.9846</td>\n",
              "      <td id=\"T_d8670_row1_col3\" class=\"data row1 col3\" >0.9848</td>\n",
              "      <td id=\"T_d8670_row1_col4\" class=\"data row1 col4\" >0.9846</td>\n",
              "      <td id=\"T_d8670_row1_col5\" class=\"data row1 col5\" >0.9750</td>\n",
              "      <td id=\"T_d8670_row1_col6\" class=\"data row1 col6\" >0.9751</td>\n",
              "    </tr>\n",
              "    <tr>\n",
              "      <th id=\"T_d8670_level0_row2\" class=\"row_heading level0 row2\" >2</th>\n",
              "      <td id=\"T_d8670_row2_col0\" class=\"data row2 col0\" >1.0000</td>\n",
              "      <td id=\"T_d8670_row2_col1\" class=\"data row2 col1\" >1.0000</td>\n",
              "      <td id=\"T_d8670_row2_col2\" class=\"data row2 col2\" >1.0000</td>\n",
              "      <td id=\"T_d8670_row2_col3\" class=\"data row2 col3\" >1.0000</td>\n",
              "      <td id=\"T_d8670_row2_col4\" class=\"data row2 col4\" >1.0000</td>\n",
              "      <td id=\"T_d8670_row2_col5\" class=\"data row2 col5\" >1.0000</td>\n",
              "      <td id=\"T_d8670_row2_col6\" class=\"data row2 col6\" >1.0000</td>\n",
              "    </tr>\n",
              "    <tr>\n",
              "      <th id=\"T_d8670_level0_row3\" class=\"row_heading level0 row3\" >3</th>\n",
              "      <td id=\"T_d8670_row3_col0\" class=\"data row3 col0\" >0.9845</td>\n",
              "      <td id=\"T_d8670_row3_col1\" class=\"data row3 col1\" >0.9986</td>\n",
              "      <td id=\"T_d8670_row3_col2\" class=\"data row3 col2\" >0.9845</td>\n",
              "      <td id=\"T_d8670_row3_col3\" class=\"data row3 col3\" >0.9847</td>\n",
              "      <td id=\"T_d8670_row3_col4\" class=\"data row3 col4\" >0.9844</td>\n",
              "      <td id=\"T_d8670_row3_col5\" class=\"data row3 col5\" >0.9748</td>\n",
              "      <td id=\"T_d8670_row3_col6\" class=\"data row3 col6\" >0.9750</td>\n",
              "    </tr>\n",
              "    <tr>\n",
              "      <th id=\"T_d8670_level0_row4\" class=\"row_heading level0 row4\" >Mean</th>\n",
              "      <td id=\"T_d8670_row4_col0\" class=\"data row4 col0\" >0.9923</td>\n",
              "      <td id=\"T_d8670_row4_col1\" class=\"data row4 col1\" >0.9996</td>\n",
              "      <td id=\"T_d8670_row4_col2\" class=\"data row4 col2\" >0.9923</td>\n",
              "      <td id=\"T_d8670_row4_col3\" class=\"data row4 col3\" >0.9924</td>\n",
              "      <td id=\"T_d8670_row4_col4\" class=\"data row4 col4\" >0.9923</td>\n",
              "      <td id=\"T_d8670_row4_col5\" class=\"data row4 col5\" >0.9875</td>\n",
              "      <td id=\"T_d8670_row4_col6\" class=\"data row4 col6\" >0.9875</td>\n",
              "    </tr>\n",
              "    <tr>\n",
              "      <th id=\"T_d8670_level0_row5\" class=\"row_heading level0 row5\" >Std</th>\n",
              "      <td id=\"T_d8670_row5_col0\" class=\"data row5 col0\" >0.0077</td>\n",
              "      <td id=\"T_d8670_row5_col1\" class=\"data row5 col1\" >0.0006</td>\n",
              "      <td id=\"T_d8670_row5_col2\" class=\"data row5 col2\" >0.0077</td>\n",
              "      <td id=\"T_d8670_row5_col3\" class=\"data row5 col3\" >0.0076</td>\n",
              "      <td id=\"T_d8670_row5_col4\" class=\"data row5 col4\" >0.0077</td>\n",
              "      <td id=\"T_d8670_row5_col5\" class=\"data row5 col5\" >0.0125</td>\n",
              "      <td id=\"T_d8670_row5_col6\" class=\"data row5 col6\" >0.0125</td>\n",
              "    </tr>\n",
              "  </tbody>\n",
              "</table>\n"
            ],
            "text/plain": [
              "<pandas.io.formats.style.Styler at 0x23de431e530>"
            ]
          },
          "metadata": {},
          "output_type": "display_data"
        },
        {
          "data": {
            "text/html": [],
            "text/plain": [
              "<IPython.core.display.HTML object>"
            ]
          },
          "metadata": {},
          "output_type": "display_data"
        },
        {
          "name": "stdout",
          "output_type": "stream",
          "text": [
            "Fitting 4 folds for each of 10 candidates, totalling 40 fits\n",
            "Original model was better than the tuned model, hence it will be returned. NOTE: The display metrics are for the tuned model (not the original one).\n"
          ]
        }
      ],
      "source": [
        "#best 모델로 튜닝\n",
        "tuned_clf = tune_model(best, optimize='acc')"
      ]
    },
    {
      "cell_type": "code",
      "execution_count": 7,
      "metadata": {
        "id": "P68_PthxvHfx"
      },
      "outputs": [
        {
          "data": {
            "text/html": [],
            "text/plain": [
              "<IPython.core.display.HTML object>"
            ]
          },
          "metadata": {},
          "output_type": "display_data"
        },
        {
          "data": {
            "image/png": "[encoded data removed]",
            "text/plain": [
              "<Figure size 800x500 with 1 Axes>"
            ]
          },
          "metadata": {},
          "output_type": "display_data"
        }
      ],
      "source": [
        "#feature importance 확인\n",
        "plot_model(best, plot='feature')"
      ]
    },
    {
      "cell_type": "code",
      "execution_count": null,
      "metadata": {
        "id": "3Y-Hahi9vLPV"
      },
      "outputs": [],
      "source": [
        "#모델 저장\n",
        "jl.dump(best,'Q2_xgb.pkl')"
      ]
    }
  ],
  "metadata": {
    "colab": {
      "provenance": []
    },
    "kernelspec": {
      "display_name": "'conda'",
      "language": "python",
      "name": "conda"
    },
    "language_info": {
      "codemirror_mode": {
        "name": "ipython",
        "version": 3
      },
      "file_extension": ".py",
      "mimetype": "text/x-python",
      "name": "python",
      "nbconvert_exporter": "python",
      "pygments_lexer": "ipython3",
      "version": "3.10.0rc2"
    }
  },
  "nbformat": 4,
  "nbformat_minor": 0
}
